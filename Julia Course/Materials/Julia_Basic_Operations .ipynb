{
 "cells": [
  {
   "cell_type": "markdown",
   "id": "silent-corruption",
   "metadata": {},
   "source": [
    "# Data Basics "
   ]
  },
  {
   "cell_type": "markdown",
   "id": "explicit-soldier",
   "metadata": {},
   "source": [
    "## Reading CSV Files "
   ]
  },
  {
   "cell_type": "code",
   "execution_count": 1,
   "id": "dress-grove",
   "metadata": {},
   "outputs": [
    {
     "name": "stderr",
     "output_type": "stream",
     "text": [
      "\u001b[32m\u001b[1m     Cloning\u001b[22m\u001b[39m git-repo `https://github.com/JuliaData/DataFrames.jl.git`\n"
     ]
    },
    {
     "ename": "LoadError",
     "evalue": "GitError(Code:EINVALIDSPEC, Class:Invalid, failed to parse revision specifier - Invalid pattern 'remotes/cache/heads/')",
     "output_type": "error",
     "traceback": [
      "GitError(Code:EINVALIDSPEC, Class:Invalid, failed to parse revision specifier - Invalid pattern 'remotes/cache/heads/')",
      "",
      "Stacktrace:",
      "  [1] macro expansion",
      "    @ /opt/julia-1.7.2/share/julia/stdlib/v1.7/LibGit2/src/error.jl:110 [inlined]",
      "  [2] LibGit2.GitObject(repo::LibGit2.GitRepo, spec::String)",
      "    @ LibGit2 /opt/julia-1.7.2/share/julia/stdlib/v1.7/LibGit2/src/repository.jl:142",
      "  [3] get_object_or_branch(repo::LibGit2.GitRepo, rev::String)",
      "    @ Pkg.Types /opt/julia-1.7.2/share/julia/stdlib/v1.7/Pkg/src/Types.jl:772",
      "  [4] (::Pkg.Types.var\"#42#43\"{Pkg.Types.Context, Pkg.Types.PackageSpec, String})(repo::LibGit2.GitRepo)",
      "    @ Pkg.Types /opt/julia-1.7.2/share/julia/stdlib/v1.7/Pkg/src/Types.jl:684",
      "  [5] with(f::Pkg.Types.var\"#42#43\"{Pkg.Types.Context, Pkg.Types.PackageSpec, String}, obj::LibGit2.GitRepo)",
      "    @ LibGit2 /opt/julia-1.7.2/share/julia/stdlib/v1.7/LibGit2/src/types.jl:1150",
      "  [6] handle_repo_add!(ctx::Pkg.Types.Context, pkg::Pkg.Types.PackageSpec)",
      "    @ Pkg.Types /opt/julia-1.7.2/share/julia/stdlib/v1.7/Pkg/src/Types.jl:676",
      "  [7] handle_repos_add!(ctx::Pkg.Types.Context, pkgs::Vector{Pkg.Types.PackageSpec})",
      "    @ Pkg.Types /opt/julia-1.7.2/share/julia/stdlib/v1.7/Pkg/src/Types.jl:743",
      "  [8] add(ctx::Pkg.Types.Context, pkgs::Vector{Pkg.Types.PackageSpec}; preserve::Pkg.Types.PreserveLevel, platform::Base.BinaryPlatforms.Platform, kwargs::Base.Pairs{Symbol, IJulia.IJuliaStdio{Base.PipeEndpoint}, Tuple{Symbol}, NamedTuple{(:io,), Tuple{IJulia.IJuliaStdio{Base.PipeEndpoint}}}})",
      "    @ Pkg.API /opt/julia-1.7.2/share/julia/stdlib/v1.7/Pkg/src/API.jl:248",
      "  [9] add(pkgs::Vector{Pkg.Types.PackageSpec}; io::IJulia.IJuliaStdio{Base.PipeEndpoint}, kwargs::Base.Pairs{Symbol, Union{}, Tuple{}, NamedTuple{(), Tuple{}}})",
      "    @ Pkg.API /opt/julia-1.7.2/share/julia/stdlib/v1.7/Pkg/src/API.jl:149",
      " [10] add(pkgs::Vector{Pkg.Types.PackageSpec})",
      "    @ Pkg.API /opt/julia-1.7.2/share/julia/stdlib/v1.7/Pkg/src/API.jl:144",
      " [11] do_cmd!(command::Pkg.REPLMode.Command, repl::IJulia.MiniREPL)",
      "    @ Pkg.REPLMode /opt/julia-1.7.2/share/julia/stdlib/v1.7/Pkg/src/REPLMode/REPLMode.jl:407",
      " [12] do_cmd(repl::IJulia.MiniREPL, input::String; do_rethrow::Bool)",
      "    @ Pkg.REPLMode /opt/julia-1.7.2/share/julia/stdlib/v1.7/Pkg/src/REPLMode/REPLMode.jl:385",
      " [13] top-level scope",
      "    @ In[1]:1",
      " [14] eval",
      "    @ ./boot.jl:373 [inlined]",
      " [15] include_string(mapexpr::typeof(REPL.softscope), mod::Module, code::String, filename::String)",
      "    @ Base ./loading.jl:1196"
     ]
    }
   ],
   "source": [
    "] add DataFrames      # usually not needed"
   ]
  },
  {
   "cell_type": "code",
   "execution_count": 2,
   "id": "promising-capitol",
   "metadata": {},
   "outputs": [
    {
     "name": "stderr",
     "output_type": "stream",
     "text": [
      "\u001b[32m\u001b[1m     Cloning\u001b[22m\u001b[39m git-repo `https://github.com/JuliaData/CSV.jl.git`\n"
     ]
    },
    {
     "ename": "LoadError",
     "evalue": "GitError(Code:EINVALIDSPEC, Class:Invalid, failed to parse revision specifier - Invalid pattern 'remotes/cache/heads/')",
     "output_type": "error",
     "traceback": [
      "GitError(Code:EINVALIDSPEC, Class:Invalid, failed to parse revision specifier - Invalid pattern 'remotes/cache/heads/')",
      "",
      "Stacktrace:",
      "  [1] macro expansion",
      "    @ /opt/julia-1.7.2/share/julia/stdlib/v1.7/LibGit2/src/error.jl:110 [inlined]",
      "  [2] LibGit2.GitObject(repo::LibGit2.GitRepo, spec::String)",
      "    @ LibGit2 /opt/julia-1.7.2/share/julia/stdlib/v1.7/LibGit2/src/repository.jl:142",
      "  [3] get_object_or_branch(repo::LibGit2.GitRepo, rev::String)",
      "    @ Pkg.Types /opt/julia-1.7.2/share/julia/stdlib/v1.7/Pkg/src/Types.jl:772",
      "  [4] (::Pkg.Types.var\"#42#43\"{Pkg.Types.Context, Pkg.Types.PackageSpec, String})(repo::LibGit2.GitRepo)",
      "    @ Pkg.Types /opt/julia-1.7.2/share/julia/stdlib/v1.7/Pkg/src/Types.jl:684",
      "  [5] with(f::Pkg.Types.var\"#42#43\"{Pkg.Types.Context, Pkg.Types.PackageSpec, String}, obj::LibGit2.GitRepo)",
      "    @ LibGit2 /opt/julia-1.7.2/share/julia/stdlib/v1.7/LibGit2/src/types.jl:1150",
      "  [6] handle_repo_add!(ctx::Pkg.Types.Context, pkg::Pkg.Types.PackageSpec)",
      "    @ Pkg.Types /opt/julia-1.7.2/share/julia/stdlib/v1.7/Pkg/src/Types.jl:676",
      "  [7] handle_repos_add!(ctx::Pkg.Types.Context, pkgs::Vector{Pkg.Types.PackageSpec})",
      "    @ Pkg.Types /opt/julia-1.7.2/share/julia/stdlib/v1.7/Pkg/src/Types.jl:743",
      "  [8] add(ctx::Pkg.Types.Context, pkgs::Vector{Pkg.Types.PackageSpec}; preserve::Pkg.Types.PreserveLevel, platform::Base.BinaryPlatforms.Platform, kwargs::Base.Pairs{Symbol, IJulia.IJuliaStdio{Base.PipeEndpoint}, Tuple{Symbol}, NamedTuple{(:io,), Tuple{IJulia.IJuliaStdio{Base.PipeEndpoint}}}})",
      "    @ Pkg.API /opt/julia-1.7.2/share/julia/stdlib/v1.7/Pkg/src/API.jl:248",
      "  [9] add(pkgs::Vector{Pkg.Types.PackageSpec}; io::IJulia.IJuliaStdio{Base.PipeEndpoint}, kwargs::Base.Pairs{Symbol, Union{}, Tuple{}, NamedTuple{(), Tuple{}}})",
      "    @ Pkg.API /opt/julia-1.7.2/share/julia/stdlib/v1.7/Pkg/src/API.jl:149",
      " [10] add(pkgs::Vector{Pkg.Types.PackageSpec})",
      "    @ Pkg.API /opt/julia-1.7.2/share/julia/stdlib/v1.7/Pkg/src/API.jl:144",
      " [11] do_cmd!(command::Pkg.REPLMode.Command, repl::IJulia.MiniREPL)",
      "    @ Pkg.REPLMode /opt/julia-1.7.2/share/julia/stdlib/v1.7/Pkg/src/REPLMode/REPLMode.jl:407",
      " [12] do_cmd(repl::IJulia.MiniREPL, input::String; do_rethrow::Bool)",
      "    @ Pkg.REPLMode /opt/julia-1.7.2/share/julia/stdlib/v1.7/Pkg/src/REPLMode/REPLMode.jl:385",
      " [13] top-level scope",
      "    @ In[2]:1",
      " [14] eval",
      "    @ ./boot.jl:373 [inlined]",
      " [15] include_string(mapexpr::typeof(REPL.softscope), mod::Module, code::String, filename::String)",
      "    @ Base ./loading.jl:1196"
     ]
    }
   ],
   "source": [
    "] add CSV             # usually not needed"
   ]
  },
  {
   "cell_type": "code",
   "execution_count": 5,
   "id": "expanded-victor",
   "metadata": {},
   "outputs": [
    {
     "name": "stderr",
     "output_type": "stream",
     "text": [
      "\u001b[32m\u001b[1m    Updating\u001b[22m\u001b[39m registry at `~/.julia/registries/General.toml`\n",
      "\u001b[32m\u001b[1m   Resolving\u001b[22m\u001b[39m package versions...\n",
      "\u001b[32m\u001b[1m   Installed\u001b[22m\u001b[39m InvertedIndices ─ v1.1.0\n",
      "\u001b[32m\u001b[1m   Installed\u001b[22m\u001b[39m Crayons ───────── v4.1.1\n",
      "\u001b[32m\u001b[1m   Installed\u001b[22m\u001b[39m PooledArrays ──── v1.4.1\n",
      "\u001b[32m\u001b[1m   Installed\u001b[22m\u001b[39m DataFrames ────── v1.3.2\n",
      "\u001b[32m\u001b[1m   Installed\u001b[22m\u001b[39m PrettyTables ──── v1.3.1\n",
      "\u001b[32m\u001b[1m    Updating\u001b[22m\u001b[39m `~/.julia/environments/v1.7/Project.toml`\n",
      " \u001b[90m [a93c6f00] \u001b[39m\u001b[92m+ DataFrames v1.3.2\u001b[39m\n",
      "\u001b[32m\u001b[1m    Updating\u001b[22m\u001b[39m `~/.julia/environments/v1.7/Manifest.toml`\n",
      " \u001b[90m [a8cc5b0e] \u001b[39m\u001b[92m+ Crayons v4.1.1\u001b[39m\n",
      " \u001b[90m [a93c6f00] \u001b[39m\u001b[92m+ DataFrames v1.3.2\u001b[39m\n",
      " \u001b[90m [41ab1584] \u001b[39m\u001b[92m+ InvertedIndices v1.1.0\u001b[39m\n",
      " \u001b[90m [2dfb63ee] \u001b[39m\u001b[92m+ PooledArrays v1.4.1\u001b[39m\n",
      " \u001b[90m [08abe8d2] \u001b[39m\u001b[92m+ PrettyTables v1.3.1\u001b[39m\n",
      " \u001b[90m [9fa8497b] \u001b[39m\u001b[92m+ Future\u001b[39m\n",
      "\u001b[32m\u001b[1mPrecompiling\u001b[22m\u001b[39m project...\n",
      "\u001b[32m  ✓ \u001b[39m\u001b[90mInvertedIndices\u001b[39m\n",
      "\u001b[32m  ✓ \u001b[39m\u001b[90mPooledArrays\u001b[39m\n",
      "\u001b[32m  ✓ \u001b[39m\u001b[90mCrayons\u001b[39m\n",
      "\u001b[32m  ✓ \u001b[39m\u001b[90mPrettyTables\u001b[39m\n",
      "\u001b[32m  ✓ \u001b[39mDataFrames\n",
      "  5 dependencies successfully precompiled in 26 seconds (135 already precompiled)\n"
     ]
    }
   ],
   "source": [
    "using Pkg\n",
    "Pkg.add(\"DataFrames\")\n"
   ]
  },
  {
   "cell_type": "code",
   "execution_count": 2,
   "id": "58171592",
   "metadata": {},
   "outputs": [],
   "source": [
    "using DataFrames"
   ]
  },
  {
   "cell_type": "code",
   "execution_count": 7,
   "id": "elegant-inflation",
   "metadata": {},
   "outputs": [
    {
     "name": "stderr",
     "output_type": "stream",
     "text": [
      "\u001b[32m\u001b[1m   Resolving\u001b[22m\u001b[39m package versions...\n",
      "\u001b[32m\u001b[1m   Installed\u001b[22m\u001b[39m CodecZlib ────────── v0.7.0\n",
      "\u001b[32m\u001b[1m   Installed\u001b[22m\u001b[39m SentinelArrays ───── v1.3.12\n",
      "\u001b[32m\u001b[1m   Installed\u001b[22m\u001b[39m FilePathsBase ────── v0.9.18\n",
      "\u001b[32m\u001b[1m   Installed\u001b[22m\u001b[39m InlineStrings ────── v1.1.2\n",
      "\u001b[32m\u001b[1m   Installed\u001b[22m\u001b[39m WeakRefStrings ───── v1.4.2\n",
      "\u001b[32m\u001b[1m   Installed\u001b[22m\u001b[39m TranscodingStreams ─ v0.9.6\n",
      "\u001b[32m\u001b[1m   Installed\u001b[22m\u001b[39m CSV ──────────────── v0.10.3\n",
      "\u001b[32m\u001b[1m    Updating\u001b[22m\u001b[39m `~/.julia/environments/v1.7/Project.toml`\n",
      " \u001b[90m [336ed68f] \u001b[39m\u001b[92m+ CSV v0.10.3\u001b[39m\n",
      "\u001b[32m\u001b[1m    Updating\u001b[22m\u001b[39m `~/.julia/environments/v1.7/Manifest.toml`\n",
      " \u001b[90m [336ed68f] \u001b[39m\u001b[92m+ CSV v0.10.3\u001b[39m\n",
      " \u001b[90m [944b1d66] \u001b[39m\u001b[92m+ CodecZlib v0.7.0\u001b[39m\n",
      " \u001b[90m [48062228] \u001b[39m\u001b[92m+ FilePathsBase v0.9.18\u001b[39m\n",
      " \u001b[90m [842dd82b] \u001b[39m\u001b[92m+ InlineStrings v1.1.2\u001b[39m\n",
      " \u001b[90m [91c51154] \u001b[39m\u001b[92m+ SentinelArrays v1.3.12\u001b[39m\n",
      " \u001b[90m [3bb67fe8] \u001b[39m\u001b[92m+ TranscodingStreams v0.9.6\u001b[39m\n",
      " \u001b[90m [ea10d353] \u001b[39m\u001b[92m+ WeakRefStrings v1.4.2\u001b[39m\n",
      "\u001b[32m\u001b[1mPrecompiling\u001b[22m\u001b[39m project...\n",
      "\u001b[32m  ✓ \u001b[39m\u001b[90mTranscodingStreams\u001b[39m\n",
      "\u001b[32m  ✓ \u001b[39m\u001b[90mInlineStrings\u001b[39m\n",
      "\u001b[32m  ✓ \u001b[39m\u001b[90mCodecZlib\u001b[39m\n",
      "\u001b[32m  ✓ \u001b[39m\u001b[90mSentinelArrays\u001b[39m\n",
      "\u001b[32m  ✓ \u001b[39m\u001b[90mFilePathsBase\u001b[39m\n",
      "\u001b[32m  ✓ \u001b[39m\u001b[90mWeakRefStrings\u001b[39m\n",
      "\u001b[32m  ✓ \u001b[39mCSV\n",
      "  7 dependencies successfully precompiled in 6 seconds (140 already precompiled)\n"
     ]
    }
   ],
   "source": [
    "using Pkg\n",
    "Pkg.add(\"CSV\")\n"
   ]
  },
  {
   "cell_type": "code",
   "execution_count": 3,
   "id": "5bf1baac",
   "metadata": {},
   "outputs": [],
   "source": [
    "using CSV"
   ]
  },
  {
   "cell_type": "code",
   "execution_count": 4,
   "id": "02f826e3",
   "metadata": {},
   "outputs": [
    {
     "data": {
      "text/html": [
       "<div class=\"data-frame\"><p>891 rows × 12 columns (omitted printing of 8 columns)</p><table class=\"data-frame\"><thead><tr><th></th><th>PassengerId</th><th>Survived</th><th>Pclass</th><th>Name</th></tr><tr><th></th><th title=\"Int64\">Int64</th><th title=\"Int64\">Int64</th><th title=\"Int64\">Int64</th><th title=\"String\">String</th></tr></thead><tbody><tr><th>1</th><td>1</td><td>0</td><td>3</td><td>Braund, Mr. Owen Harris</td></tr><tr><th>2</th><td>2</td><td>1</td><td>1</td><td>Cumings, Mrs. John Bradley (Florence Briggs Thayer)</td></tr><tr><th>3</th><td>3</td><td>1</td><td>3</td><td>Heikkinen, Miss. Laina</td></tr><tr><th>4</th><td>4</td><td>1</td><td>1</td><td>Futrelle, Mrs. Jacques Heath (Lily May Peel)</td></tr><tr><th>5</th><td>5</td><td>0</td><td>3</td><td>Allen, Mr. William Henry</td></tr><tr><th>6</th><td>6</td><td>0</td><td>3</td><td>Moran, Mr. James</td></tr><tr><th>7</th><td>7</td><td>0</td><td>1</td><td>McCarthy, Mr. Timothy J</td></tr><tr><th>8</th><td>8</td><td>0</td><td>3</td><td>Palsson, Master. Gosta Leonard</td></tr><tr><th>9</th><td>9</td><td>1</td><td>3</td><td>Johnson, Mrs. Oscar W (Elisabeth Vilhelmina Berg)</td></tr><tr><th>10</th><td>10</td><td>1</td><td>2</td><td>Nasser, Mrs. Nicholas (Adele Achem)</td></tr><tr><th>11</th><td>11</td><td>1</td><td>3</td><td>Sandstrom, Miss. Marguerite Rut</td></tr><tr><th>12</th><td>12</td><td>1</td><td>1</td><td>Bonnell, Miss. Elizabeth</td></tr><tr><th>13</th><td>13</td><td>0</td><td>3</td><td>Saundercock, Mr. William Henry</td></tr><tr><th>14</th><td>14</td><td>0</td><td>3</td><td>Andersson, Mr. Anders Johan</td></tr><tr><th>15</th><td>15</td><td>0</td><td>3</td><td>Vestrom, Miss. Hulda Amanda Adolfina</td></tr><tr><th>16</th><td>16</td><td>1</td><td>2</td><td>Hewlett, Mrs. (Mary D Kingcome) </td></tr><tr><th>17</th><td>17</td><td>0</td><td>3</td><td>Rice, Master. Eugene</td></tr><tr><th>18</th><td>18</td><td>1</td><td>2</td><td>Williams, Mr. Charles Eugene</td></tr><tr><th>19</th><td>19</td><td>0</td><td>3</td><td>Vander Planke, Mrs. Julius (Emelia Maria Vandemoortele)</td></tr><tr><th>20</th><td>20</td><td>1</td><td>3</td><td>Masselmani, Mrs. Fatima</td></tr><tr><th>21</th><td>21</td><td>0</td><td>2</td><td>Fynney, Mr. Joseph J</td></tr><tr><th>22</th><td>22</td><td>1</td><td>2</td><td>Beesley, Mr. Lawrence</td></tr><tr><th>23</th><td>23</td><td>1</td><td>3</td><td>McGowan, Miss. Anna &quot;Annie&quot;</td></tr><tr><th>24</th><td>24</td><td>1</td><td>1</td><td>Sloper, Mr. William Thompson</td></tr><tr><th>25</th><td>25</td><td>0</td><td>3</td><td>Palsson, Miss. Torborg Danira</td></tr><tr><th>26</th><td>26</td><td>1</td><td>3</td><td>Asplund, Mrs. Carl Oscar (Selma Augusta Emilia Johansson)</td></tr><tr><th>27</th><td>27</td><td>0</td><td>3</td><td>Emir, Mr. Farred Chehab</td></tr><tr><th>28</th><td>28</td><td>0</td><td>1</td><td>Fortune, Mr. Charles Alexander</td></tr><tr><th>29</th><td>29</td><td>1</td><td>3</td><td>O&apos;Dwyer, Miss. Ellen &quot;Nellie&quot;</td></tr><tr><th>30</th><td>30</td><td>0</td><td>3</td><td>Todoroff, Mr. Lalio</td></tr><tr><th>&vellip;</th><td>&vellip;</td><td>&vellip;</td><td>&vellip;</td><td>&vellip;</td></tr></tbody></table></div>"
      ],
      "text/latex": [
       "\\begin{tabular}{r|ccccc}\n",
       "\t& PassengerId & Survived & Pclass & Name & \\\\\n",
       "\t\\hline\n",
       "\t& Int64 & Int64 & Int64 & String & \\\\\n",
       "\t\\hline\n",
       "\t1 & 1 & 0 & 3 & Braund, Mr. Owen Harris & $\\dots$ \\\\\n",
       "\t2 & 2 & 1 & 1 & Cumings, Mrs. John Bradley (Florence Briggs Thayer) & $\\dots$ \\\\\n",
       "\t3 & 3 & 1 & 3 & Heikkinen, Miss. Laina & $\\dots$ \\\\\n",
       "\t4 & 4 & 1 & 1 & Futrelle, Mrs. Jacques Heath (Lily May Peel) & $\\dots$ \\\\\n",
       "\t5 & 5 & 0 & 3 & Allen, Mr. William Henry & $\\dots$ \\\\\n",
       "\t6 & 6 & 0 & 3 & Moran, Mr. James & $\\dots$ \\\\\n",
       "\t7 & 7 & 0 & 1 & McCarthy, Mr. Timothy J & $\\dots$ \\\\\n",
       "\t8 & 8 & 0 & 3 & Palsson, Master. Gosta Leonard & $\\dots$ \\\\\n",
       "\t9 & 9 & 1 & 3 & Johnson, Mrs. Oscar W (Elisabeth Vilhelmina Berg) & $\\dots$ \\\\\n",
       "\t10 & 10 & 1 & 2 & Nasser, Mrs. Nicholas (Adele Achem) & $\\dots$ \\\\\n",
       "\t11 & 11 & 1 & 3 & Sandstrom, Miss. Marguerite Rut & $\\dots$ \\\\\n",
       "\t12 & 12 & 1 & 1 & Bonnell, Miss. Elizabeth & $\\dots$ \\\\\n",
       "\t13 & 13 & 0 & 3 & Saundercock, Mr. William Henry & $\\dots$ \\\\\n",
       "\t14 & 14 & 0 & 3 & Andersson, Mr. Anders Johan & $\\dots$ \\\\\n",
       "\t15 & 15 & 0 & 3 & Vestrom, Miss. Hulda Amanda Adolfina & $\\dots$ \\\\\n",
       "\t16 & 16 & 1 & 2 & Hewlett, Mrs. (Mary D Kingcome)  & $\\dots$ \\\\\n",
       "\t17 & 17 & 0 & 3 & Rice, Master. Eugene & $\\dots$ \\\\\n",
       "\t18 & 18 & 1 & 2 & Williams, Mr. Charles Eugene & $\\dots$ \\\\\n",
       "\t19 & 19 & 0 & 3 & Vander Planke, Mrs. Julius (Emelia Maria Vandemoortele) & $\\dots$ \\\\\n",
       "\t20 & 20 & 1 & 3 & Masselmani, Mrs. Fatima & $\\dots$ \\\\\n",
       "\t21 & 21 & 0 & 2 & Fynney, Mr. Joseph J & $\\dots$ \\\\\n",
       "\t22 & 22 & 1 & 2 & Beesley, Mr. Lawrence & $\\dots$ \\\\\n",
       "\t23 & 23 & 1 & 3 & McGowan, Miss. Anna \"Annie\" & $\\dots$ \\\\\n",
       "\t24 & 24 & 1 & 1 & Sloper, Mr. William Thompson & $\\dots$ \\\\\n",
       "\t25 & 25 & 0 & 3 & Palsson, Miss. Torborg Danira & $\\dots$ \\\\\n",
       "\t26 & 26 & 1 & 3 & Asplund, Mrs. Carl Oscar (Selma Augusta Emilia Johansson) & $\\dots$ \\\\\n",
       "\t27 & 27 & 0 & 3 & Emir, Mr. Farred Chehab & $\\dots$ \\\\\n",
       "\t28 & 28 & 0 & 1 & Fortune, Mr. Charles Alexander & $\\dots$ \\\\\n",
       "\t29 & 29 & 1 & 3 & O'Dwyer, Miss. Ellen \"Nellie\" & $\\dots$ \\\\\n",
       "\t30 & 30 & 0 & 3 & Todoroff, Mr. Lalio & $\\dots$ \\\\\n",
       "\t$\\dots$ & $\\dots$ & $\\dots$ & $\\dots$ & $\\dots$ &  \\\\\n",
       "\\end{tabular}\n"
      ],
      "text/plain": [
       "\u001b[1m891×12 DataFrame\u001b[0m\n",
       "\u001b[1m Row \u001b[0m│\u001b[1m PassengerId \u001b[0m\u001b[1m Survived \u001b[0m\u001b[1m Pclass \u001b[0m\u001b[1m Name                              \u001b[0m\u001b[1m Sex  \u001b[0m ⋯\n",
       "\u001b[1m     \u001b[0m│\u001b[90m Int64       \u001b[0m\u001b[90m Int64    \u001b[0m\u001b[90m Int64  \u001b[0m\u001b[90m String                            \u001b[0m\u001b[90m Strin\u001b[0m ⋯\n",
       "─────┼──────────────────────────────────────────────────────────────────────────\n",
       "   1 │           1         0       3  Braund, Mr. Owen Harris            male  ⋯\n",
       "   2 │           2         1       1  Cumings, Mrs. John Bradley (Flor…  femal\n",
       "   3 │           3         1       3  Heikkinen, Miss. Laina             femal\n",
       "   4 │           4         1       1  Futrelle, Mrs. Jacques Heath (Li…  femal\n",
       "   5 │           5         0       3  Allen, Mr. William Henry           male  ⋯\n",
       "   6 │           6         0       3  Moran, Mr. James                   male\n",
       "   7 │           7         0       1  McCarthy, Mr. Timothy J            male\n",
       "   8 │           8         0       3  Palsson, Master. Gosta Leonard     male\n",
       "   9 │           9         1       3  Johnson, Mrs. Oscar W (Elisabeth…  femal ⋯\n",
       "  10 │          10         1       2  Nasser, Mrs. Nicholas (Adele Ach…  femal\n",
       "  11 │          11         1       3  Sandstrom, Miss. Marguerite Rut    femal\n",
       "  ⋮  │      ⋮          ⋮        ⋮                     ⋮                     ⋮  ⋱\n",
       " 882 │         882         0       3  Markun, Mr. Johann                 male\n",
       " 883 │         883         0       3  Dahlberg, Miss. Gerda Ulrika       femal ⋯\n",
       " 884 │         884         0       2  Banfield, Mr. Frederick James      male\n",
       " 885 │         885         0       3  Sutehall, Mr. Henry Jr             male\n",
       " 886 │         886         0       3  Rice, Mrs. William (Margaret Nor…  femal\n",
       " 887 │         887         0       2  Montvila, Rev. Juozas              male  ⋯\n",
       " 888 │         888         1       1  Graham, Miss. Margaret Edith       femal\n",
       " 889 │         889         0       3  Johnston, Miss. Catherine Helen …  femal\n",
       " 890 │         890         1       1  Behr, Mr. Karl Howell              male\n",
       " 891 │         891         0       3  Dooley, Mr. Patrick                male  ⋯\n",
       "\u001b[36m                                                  8 columns and 870 rows omitted\u001b[0m"
      ]
     },
     "execution_count": 4,
     "metadata": {},
     "output_type": "execute_result"
    }
   ],
   "source": [
    "df = DataFrame(CSV.File(\"Titanic.csv\"))"
   ]
  },
  {
   "cell_type": "code",
   "execution_count": 5,
   "id": "everyday-cedar",
   "metadata": {},
   "outputs": [
    {
     "data": {
      "text/html": [
       "<div class=\"data-frame\"><p>891 rows × 12 columns (omitted printing of 8 columns)</p><table class=\"data-frame\"><thead><tr><th></th><th>PassengerId</th><th>Survived</th><th>Pclass</th><th>Name</th></tr><tr><th></th><th title=\"Int64\">Int64</th><th title=\"Int64\">Int64</th><th title=\"Int64\">Int64</th><th title=\"String\">String</th></tr></thead><tbody><tr><th>1</th><td>1</td><td>0</td><td>3</td><td>Braund, Mr. Owen Harris</td></tr><tr><th>2</th><td>2</td><td>1</td><td>1</td><td>Cumings, Mrs. John Bradley (Florence Briggs Thayer)</td></tr><tr><th>3</th><td>3</td><td>1</td><td>3</td><td>Heikkinen, Miss. Laina</td></tr><tr><th>4</th><td>4</td><td>1</td><td>1</td><td>Futrelle, Mrs. Jacques Heath (Lily May Peel)</td></tr><tr><th>5</th><td>5</td><td>0</td><td>3</td><td>Allen, Mr. William Henry</td></tr><tr><th>6</th><td>6</td><td>0</td><td>3</td><td>Moran, Mr. James</td></tr><tr><th>7</th><td>7</td><td>0</td><td>1</td><td>McCarthy, Mr. Timothy J</td></tr><tr><th>8</th><td>8</td><td>0</td><td>3</td><td>Palsson, Master. Gosta Leonard</td></tr><tr><th>9</th><td>9</td><td>1</td><td>3</td><td>Johnson, Mrs. Oscar W (Elisabeth Vilhelmina Berg)</td></tr><tr><th>10</th><td>10</td><td>1</td><td>2</td><td>Nasser, Mrs. Nicholas (Adele Achem)</td></tr><tr><th>11</th><td>11</td><td>1</td><td>3</td><td>Sandstrom, Miss. Marguerite Rut</td></tr><tr><th>12</th><td>12</td><td>1</td><td>1</td><td>Bonnell, Miss. Elizabeth</td></tr><tr><th>13</th><td>13</td><td>0</td><td>3</td><td>Saundercock, Mr. William Henry</td></tr><tr><th>14</th><td>14</td><td>0</td><td>3</td><td>Andersson, Mr. Anders Johan</td></tr><tr><th>15</th><td>15</td><td>0</td><td>3</td><td>Vestrom, Miss. Hulda Amanda Adolfina</td></tr><tr><th>16</th><td>16</td><td>1</td><td>2</td><td>Hewlett, Mrs. (Mary D Kingcome) </td></tr><tr><th>17</th><td>17</td><td>0</td><td>3</td><td>Rice, Master. Eugene</td></tr><tr><th>18</th><td>18</td><td>1</td><td>2</td><td>Williams, Mr. Charles Eugene</td></tr><tr><th>19</th><td>19</td><td>0</td><td>3</td><td>Vander Planke, Mrs. Julius (Emelia Maria Vandemoortele)</td></tr><tr><th>20</th><td>20</td><td>1</td><td>3</td><td>Masselmani, Mrs. Fatima</td></tr><tr><th>21</th><td>21</td><td>0</td><td>2</td><td>Fynney, Mr. Joseph J</td></tr><tr><th>22</th><td>22</td><td>1</td><td>2</td><td>Beesley, Mr. Lawrence</td></tr><tr><th>23</th><td>23</td><td>1</td><td>3</td><td>McGowan, Miss. Anna &quot;Annie&quot;</td></tr><tr><th>24</th><td>24</td><td>1</td><td>1</td><td>Sloper, Mr. William Thompson</td></tr><tr><th>25</th><td>25</td><td>0</td><td>3</td><td>Palsson, Miss. Torborg Danira</td></tr><tr><th>26</th><td>26</td><td>1</td><td>3</td><td>Asplund, Mrs. Carl Oscar (Selma Augusta Emilia Johansson)</td></tr><tr><th>27</th><td>27</td><td>0</td><td>3</td><td>Emir, Mr. Farred Chehab</td></tr><tr><th>28</th><td>28</td><td>0</td><td>1</td><td>Fortune, Mr. Charles Alexander</td></tr><tr><th>29</th><td>29</td><td>1</td><td>3</td><td>O&apos;Dwyer, Miss. Ellen &quot;Nellie&quot;</td></tr><tr><th>30</th><td>30</td><td>0</td><td>3</td><td>Todoroff, Mr. Lalio</td></tr><tr><th>&vellip;</th><td>&vellip;</td><td>&vellip;</td><td>&vellip;</td><td>&vellip;</td></tr></tbody></table></div>"
      ],
      "text/latex": [
       "\\begin{tabular}{r|ccccc}\n",
       "\t& PassengerId & Survived & Pclass & Name & \\\\\n",
       "\t\\hline\n",
       "\t& Int64 & Int64 & Int64 & String & \\\\\n",
       "\t\\hline\n",
       "\t1 & 1 & 0 & 3 & Braund, Mr. Owen Harris & $\\dots$ \\\\\n",
       "\t2 & 2 & 1 & 1 & Cumings, Mrs. John Bradley (Florence Briggs Thayer) & $\\dots$ \\\\\n",
       "\t3 & 3 & 1 & 3 & Heikkinen, Miss. Laina & $\\dots$ \\\\\n",
       "\t4 & 4 & 1 & 1 & Futrelle, Mrs. Jacques Heath (Lily May Peel) & $\\dots$ \\\\\n",
       "\t5 & 5 & 0 & 3 & Allen, Mr. William Henry & $\\dots$ \\\\\n",
       "\t6 & 6 & 0 & 3 & Moran, Mr. James & $\\dots$ \\\\\n",
       "\t7 & 7 & 0 & 1 & McCarthy, Mr. Timothy J & $\\dots$ \\\\\n",
       "\t8 & 8 & 0 & 3 & Palsson, Master. Gosta Leonard & $\\dots$ \\\\\n",
       "\t9 & 9 & 1 & 3 & Johnson, Mrs. Oscar W (Elisabeth Vilhelmina Berg) & $\\dots$ \\\\\n",
       "\t10 & 10 & 1 & 2 & Nasser, Mrs. Nicholas (Adele Achem) & $\\dots$ \\\\\n",
       "\t11 & 11 & 1 & 3 & Sandstrom, Miss. Marguerite Rut & $\\dots$ \\\\\n",
       "\t12 & 12 & 1 & 1 & Bonnell, Miss. Elizabeth & $\\dots$ \\\\\n",
       "\t13 & 13 & 0 & 3 & Saundercock, Mr. William Henry & $\\dots$ \\\\\n",
       "\t14 & 14 & 0 & 3 & Andersson, Mr. Anders Johan & $\\dots$ \\\\\n",
       "\t15 & 15 & 0 & 3 & Vestrom, Miss. Hulda Amanda Adolfina & $\\dots$ \\\\\n",
       "\t16 & 16 & 1 & 2 & Hewlett, Mrs. (Mary D Kingcome)  & $\\dots$ \\\\\n",
       "\t17 & 17 & 0 & 3 & Rice, Master. Eugene & $\\dots$ \\\\\n",
       "\t18 & 18 & 1 & 2 & Williams, Mr. Charles Eugene & $\\dots$ \\\\\n",
       "\t19 & 19 & 0 & 3 & Vander Planke, Mrs. Julius (Emelia Maria Vandemoortele) & $\\dots$ \\\\\n",
       "\t20 & 20 & 1 & 3 & Masselmani, Mrs. Fatima & $\\dots$ \\\\\n",
       "\t21 & 21 & 0 & 2 & Fynney, Mr. Joseph J & $\\dots$ \\\\\n",
       "\t22 & 22 & 1 & 2 & Beesley, Mr. Lawrence & $\\dots$ \\\\\n",
       "\t23 & 23 & 1 & 3 & McGowan, Miss. Anna \"Annie\" & $\\dots$ \\\\\n",
       "\t24 & 24 & 1 & 1 & Sloper, Mr. William Thompson & $\\dots$ \\\\\n",
       "\t25 & 25 & 0 & 3 & Palsson, Miss. Torborg Danira & $\\dots$ \\\\\n",
       "\t26 & 26 & 1 & 3 & Asplund, Mrs. Carl Oscar (Selma Augusta Emilia Johansson) & $\\dots$ \\\\\n",
       "\t27 & 27 & 0 & 3 & Emir, Mr. Farred Chehab & $\\dots$ \\\\\n",
       "\t28 & 28 & 0 & 1 & Fortune, Mr. Charles Alexander & $\\dots$ \\\\\n",
       "\t29 & 29 & 1 & 3 & O'Dwyer, Miss. Ellen \"Nellie\" & $\\dots$ \\\\\n",
       "\t30 & 30 & 0 & 3 & Todoroff, Mr. Lalio & $\\dots$ \\\\\n",
       "\t$\\dots$ & $\\dots$ & $\\dots$ & $\\dots$ & $\\dots$ &  \\\\\n",
       "\\end{tabular}\n"
      ],
      "text/plain": [
       "\u001b[1m891×12 DataFrame\u001b[0m\n",
       "\u001b[1m Row \u001b[0m│\u001b[1m PassengerId \u001b[0m\u001b[1m Survived \u001b[0m\u001b[1m Pclass \u001b[0m\u001b[1m Name                              \u001b[0m\u001b[1m Sex  \u001b[0m ⋯\n",
       "\u001b[1m     \u001b[0m│\u001b[90m Int64       \u001b[0m\u001b[90m Int64    \u001b[0m\u001b[90m Int64  \u001b[0m\u001b[90m String                            \u001b[0m\u001b[90m Strin\u001b[0m ⋯\n",
       "─────┼──────────────────────────────────────────────────────────────────────────\n",
       "   1 │           1         0       3  Braund, Mr. Owen Harris            male  ⋯\n",
       "   2 │           2         1       1  Cumings, Mrs. John Bradley (Flor…  femal\n",
       "   3 │           3         1       3  Heikkinen, Miss. Laina             femal\n",
       "   4 │           4         1       1  Futrelle, Mrs. Jacques Heath (Li…  femal\n",
       "   5 │           5         0       3  Allen, Mr. William Henry           male  ⋯\n",
       "   6 │           6         0       3  Moran, Mr. James                   male\n",
       "   7 │           7         0       1  McCarthy, Mr. Timothy J            male\n",
       "   8 │           8         0       3  Palsson, Master. Gosta Leonard     male\n",
       "   9 │           9         1       3  Johnson, Mrs. Oscar W (Elisabeth…  femal ⋯\n",
       "  10 │          10         1       2  Nasser, Mrs. Nicholas (Adele Ach…  femal\n",
       "  11 │          11         1       3  Sandstrom, Miss. Marguerite Rut    femal\n",
       "  ⋮  │      ⋮          ⋮        ⋮                     ⋮                     ⋮  ⋱\n",
       " 882 │         882         0       3  Markun, Mr. Johann                 male\n",
       " 883 │         883         0       3  Dahlberg, Miss. Gerda Ulrika       femal ⋯\n",
       " 884 │         884         0       2  Banfield, Mr. Frederick James      male\n",
       " 885 │         885         0       3  Sutehall, Mr. Henry Jr             male\n",
       " 886 │         886         0       3  Rice, Mrs. William (Margaret Nor…  femal\n",
       " 887 │         887         0       2  Montvila, Rev. Juozas              male  ⋯\n",
       " 888 │         888         1       1  Graham, Miss. Margaret Edith       femal\n",
       " 889 │         889         0       3  Johnston, Miss. Catherine Helen …  femal\n",
       " 890 │         890         1       1  Behr, Mr. Karl Howell              male\n",
       " 891 │         891         0       3  Dooley, Mr. Patrick                male  ⋯\n",
       "\u001b[36m                                                  8 columns and 870 rows omitted\u001b[0m"
      ]
     },
     "execution_count": 5,
     "metadata": {},
     "output_type": "execute_result"
    }
   ],
   "source": [
    "df"
   ]
  },
  {
   "cell_type": "code",
   "execution_count": 14,
   "id": "violent-appointment",
   "metadata": {},
   "outputs": [
    {
     "name": "stdout",
     "output_type": "stream",
     "text": [
      "\u001b[1m891×12 DataFrame\u001b[0m\n",
      "\u001b[1m Row \u001b[0m│\u001b[1m PassengerId \u001b[0m\u001b[1m Survived \u001b[0m\u001b[1m Pclass \u001b[0m\u001b[1m Name                              \u001b[0m\u001b[1m Sex     \u001b[0m\u001b[1m Age       \u001b[0m\u001b[1m SibSp \u001b[0m\u001b[1m Parch \u001b[0m\u001b[1m Ticket           \u001b[0m\u001b[1m Fare    \u001b[0m\u001b[1m Cabin     \u001b[0m\u001b[1m Embarked \u001b[0m\n",
      "\u001b[1m     \u001b[0m│\u001b[90m Int64       \u001b[0m\u001b[90m Int64    \u001b[0m\u001b[90m Int64  \u001b[0m\u001b[90m String                            \u001b[0m\u001b[90m String7 \u001b[0m\u001b[90m Float64?  \u001b[0m\u001b[90m Int64 \u001b[0m\u001b[90m Int64 \u001b[0m\u001b[90m String31         \u001b[0m\u001b[90m Float64 \u001b[0m\u001b[90m String15? \u001b[0m\u001b[90m String1? \u001b[0m\n",
      "─────┼────────────────────────────────────────────────────────────────────────────────────────────────────────────────────────────────────────────────────\n",
      "   1 │           1         0       3  Braund, Mr. Owen Harris            male          22.0      1      0  A/5 21171          7.25   \u001b[90m missing   \u001b[0m S\n",
      "   2 │           2         1       1  Cumings, Mrs. John Bradley (Flor…  female        38.0      1      0  PC 17599          71.2833  C85        C\n",
      "   3 │           3         1       3  Heikkinen, Miss. Laina             female        26.0      0      0  STON/O2. 3101282   7.925  \u001b[90m missing   \u001b[0m S\n",
      "   4 │           4         1       1  Futrelle, Mrs. Jacques Heath (Li…  female        35.0      1      0  113803            53.1     C123       S\n",
      "   5 │           5         0       3  Allen, Mr. William Henry           male          35.0      0      0  373450             8.05   \u001b[90m missing   \u001b[0m S\n",
      "   6 │           6         0       3  Moran, Mr. James                   male    \u001b[90m missing   \u001b[0m     0      0  330877             8.4583 \u001b[90m missing   \u001b[0m Q\n",
      "   7 │           7         0       1  McCarthy, Mr. Timothy J            male          54.0      0      0  17463             51.8625  E46        S\n",
      "   8 │           8         0       3  Palsson, Master. Gosta Leonard     male           2.0      3      1  349909            21.075  \u001b[90m missing   \u001b[0m S\n",
      "   9 │           9         1       3  Johnson, Mrs. Oscar W (Elisabeth…  female        27.0      0      2  347742            11.1333 \u001b[90m missing   \u001b[0m S\n",
      "  10 │          10         1       2  Nasser, Mrs. Nicholas (Adele Ach…  female        14.0      1      0  237736            30.0708 \u001b[90m missing   \u001b[0m C\n",
      "  11 │          11         1       3  Sandstrom, Miss. Marguerite Rut    female         4.0      1      1  PP 9549           16.7     G6         S\n",
      "  ⋮  │      ⋮          ⋮        ⋮                     ⋮                     ⋮         ⋮        ⋮      ⋮           ⋮             ⋮         ⋮         ⋮\n",
      " 882 │         882         0       3  Markun, Mr. Johann                 male          33.0      0      0  349257             7.8958 \u001b[90m missing   \u001b[0m S\n",
      " 883 │         883         0       3  Dahlberg, Miss. Gerda Ulrika       female        22.0      0      0  7552              10.5167 \u001b[90m missing   \u001b[0m S\n",
      " 884 │         884         0       2  Banfield, Mr. Frederick James      male          28.0      0      0  C.A./SOTON 34068  10.5    \u001b[90m missing   \u001b[0m S\n",
      " 885 │         885         0       3  Sutehall, Mr. Henry Jr             male          25.0      0      0  SOTON/OQ 392076    7.05   \u001b[90m missing   \u001b[0m S\n",
      " 886 │         886         0       3  Rice, Mrs. William (Margaret Nor…  female        39.0      0      5  382652            29.125  \u001b[90m missing   \u001b[0m Q\n",
      " 887 │         887         0       2  Montvila, Rev. Juozas              male          27.0      0      0  211536            13.0    \u001b[90m missing   \u001b[0m S\n",
      " 888 │         888         1       1  Graham, Miss. Margaret Edith       female        19.0      0      0  112053            30.0     B42        S\n",
      " 889 │         889         0       3  Johnston, Miss. Catherine Helen …  female  \u001b[90m missing   \u001b[0m     1      2  W./C. 6607        23.45   \u001b[90m missing   \u001b[0m S\n",
      " 890 │         890         1       1  Behr, Mr. Karl Howell              male          26.0      0      0  111369            30.0     C148       C\n",
      " 891 │         891         0       3  Dooley, Mr. Patrick                male          32.0      0      0  370376             7.75   \u001b[90m missing   \u001b[0m Q\n",
      "\u001b[36m                                                                                                                                          870 rows omitted\u001b[0m"
     ]
    }
   ],
   "source": [
    "show(df, allcols=true)\n"
   ]
  },
  {
   "cell_type": "code",
   "execution_count": null,
   "id": "7b494e93",
   "metadata": {},
   "outputs": [],
   "source": []
  },
  {
   "cell_type": "code",
   "execution_count": 19,
   "id": "educational-hacker",
   "metadata": {},
   "outputs": [
    {
     "data": {
      "text/plain": [
       "891-element Vector{Int64}:\n",
       " 3\n",
       " 1\n",
       " 3\n",
       " 1\n",
       " 3\n",
       " 3\n",
       " 1\n",
       " 3\n",
       " 3\n",
       " 2\n",
       " 3\n",
       " 1\n",
       " 3\n",
       " ⋮\n",
       " 1\n",
       " 2\n",
       " 3\n",
       " 3\n",
       " 2\n",
       " 3\n",
       " 3\n",
       " 2\n",
       " 1\n",
       " 3\n",
       " 1\n",
       " 3"
      ]
     },
     "execution_count": 19,
     "metadata": {},
     "output_type": "execute_result"
    }
   ],
   "source": [
    "df.\"Pclass\"     # strange, but sometimes useful "
   ]
  },
  {
   "cell_type": "code",
   "execution_count": 20,
   "id": "dedicated-dream",
   "metadata": {},
   "outputs": [
    {
     "data": {
      "text/plain": [
       "4-element Vector{Int64}:\n",
       " 3\n",
       " 1\n",
       " 3\n",
       " 1"
      ]
     },
     "execution_count": 20,
     "metadata": {},
     "output_type": "execute_result"
    }
   ],
   "source": [
    "df[1:4, :Pclass]"
   ]
  },
  {
   "cell_type": "code",
   "execution_count": 21,
   "id": "subsequent-lebanon",
   "metadata": {},
   "outputs": [
    {
     "data": {
      "text/html": [
       "<div class=\"data-frame\"><p>891 rows × 1 columns</p><table class=\"data-frame\"><thead><tr><th></th><th>Pclass</th></tr><tr><th></th><th title=\"Int64\">Int64</th></tr></thead><tbody><tr><th>1</th><td>3</td></tr><tr><th>2</th><td>1</td></tr><tr><th>3</th><td>3</td></tr><tr><th>4</th><td>1</td></tr><tr><th>5</th><td>3</td></tr><tr><th>6</th><td>3</td></tr><tr><th>7</th><td>1</td></tr><tr><th>8</th><td>3</td></tr><tr><th>9</th><td>3</td></tr><tr><th>10</th><td>2</td></tr><tr><th>11</th><td>3</td></tr><tr><th>12</th><td>1</td></tr><tr><th>13</th><td>3</td></tr><tr><th>14</th><td>3</td></tr><tr><th>15</th><td>3</td></tr><tr><th>16</th><td>2</td></tr><tr><th>17</th><td>3</td></tr><tr><th>18</th><td>2</td></tr><tr><th>19</th><td>3</td></tr><tr><th>20</th><td>3</td></tr><tr><th>21</th><td>2</td></tr><tr><th>22</th><td>2</td></tr><tr><th>23</th><td>3</td></tr><tr><th>24</th><td>1</td></tr><tr><th>25</th><td>3</td></tr><tr><th>26</th><td>3</td></tr><tr><th>27</th><td>3</td></tr><tr><th>28</th><td>1</td></tr><tr><th>29</th><td>3</td></tr><tr><th>30</th><td>3</td></tr><tr><th>&vellip;</th><td>&vellip;</td></tr></tbody></table></div>"
      ],
      "text/latex": [
       "\\begin{tabular}{r|c}\n",
       "\t& Pclass\\\\\n",
       "\t\\hline\n",
       "\t& Int64\\\\\n",
       "\t\\hline\n",
       "\t1 & 3 \\\\\n",
       "\t2 & 1 \\\\\n",
       "\t3 & 3 \\\\\n",
       "\t4 & 1 \\\\\n",
       "\t5 & 3 \\\\\n",
       "\t6 & 3 \\\\\n",
       "\t7 & 1 \\\\\n",
       "\t8 & 3 \\\\\n",
       "\t9 & 3 \\\\\n",
       "\t10 & 2 \\\\\n",
       "\t11 & 3 \\\\\n",
       "\t12 & 1 \\\\\n",
       "\t13 & 3 \\\\\n",
       "\t14 & 3 \\\\\n",
       "\t15 & 3 \\\\\n",
       "\t16 & 2 \\\\\n",
       "\t17 & 3 \\\\\n",
       "\t18 & 2 \\\\\n",
       "\t19 & 3 \\\\\n",
       "\t20 & 3 \\\\\n",
       "\t21 & 2 \\\\\n",
       "\t22 & 2 \\\\\n",
       "\t23 & 3 \\\\\n",
       "\t24 & 1 \\\\\n",
       "\t25 & 3 \\\\\n",
       "\t26 & 3 \\\\\n",
       "\t27 & 3 \\\\\n",
       "\t28 & 1 \\\\\n",
       "\t29 & 3 \\\\\n",
       "\t30 & 3 \\\\\n",
       "\t$\\dots$ & $\\dots$ \\\\\n",
       "\\end{tabular}\n"
      ],
      "text/plain": [
       "\u001b[1m891×1 DataFrame\u001b[0m\n",
       "\u001b[1m Row \u001b[0m│\u001b[1m Pclass \u001b[0m\n",
       "\u001b[1m     \u001b[0m│\u001b[90m Int64  \u001b[0m\n",
       "─────┼────────\n",
       "   1 │      3\n",
       "   2 │      1\n",
       "   3 │      3\n",
       "   4 │      1\n",
       "   5 │      3\n",
       "   6 │      3\n",
       "   7 │      1\n",
       "   8 │      3\n",
       "   9 │      3\n",
       "  10 │      2\n",
       "  11 │      3\n",
       "  ⋮  │   ⋮\n",
       " 882 │      3\n",
       " 883 │      3\n",
       " 884 │      2\n",
       " 885 │      3\n",
       " 886 │      3\n",
       " 887 │      2\n",
       " 888 │      1\n",
       " 889 │      3\n",
       " 890 │      1\n",
       " 891 │      3\n",
       "\u001b[36m870 rows omitted\u001b[0m"
      ]
     },
     "execution_count": 21,
     "metadata": {},
     "output_type": "execute_result"
    }
   ],
   "source": [
    "select(df, r\"Pclass\")           # you can make in-place selection using the bang variant of select "
   ]
  },
  {
   "cell_type": "code",
   "execution_count": null,
   "id": "impressed-joyce",
   "metadata": {},
   "outputs": [],
   "source": []
  },
  {
   "cell_type": "markdown",
   "id": "fundamental-orbit",
   "metadata": {},
   "source": [
    "## Descriptive Study"
   ]
  },
  {
   "cell_type": "code",
   "execution_count": 22,
   "id": "concrete-cooperative",
   "metadata": {},
   "outputs": [
    {
     "data": {
      "text/html": [
       "<div class=\"data-frame\"><p>12 rows × 7 columns (omitted printing of 2 columns)</p><table class=\"data-frame\"><thead><tr><th></th><th>variable</th><th>mean</th><th>min</th><th>median</th><th>max</th></tr><tr><th></th><th title=\"Symbol\">Symbol</th><th title=\"Union{Nothing, Float64}\">Union…</th><th title=\"Any\">Any</th><th title=\"Union{Nothing, Float64}\">Union…</th><th title=\"Any\">Any</th></tr></thead><tbody><tr><th>1</th><td>PassengerId</td><td>446.0</td><td>1</td><td>446.0</td><td>891</td></tr><tr><th>2</th><td>Survived</td><td>0.383838</td><td>0</td><td>0.0</td><td>1</td></tr><tr><th>3</th><td>Pclass</td><td>2.30864</td><td>1</td><td>3.0</td><td>3</td></tr><tr><th>4</th><td>Name</td><td></td><td>Abbing, Mr. Anthony</td><td></td><td>van Melkebeke, Mr. Philemon</td></tr><tr><th>5</th><td>Sex</td><td></td><td>female</td><td></td><td>male</td></tr><tr><th>6</th><td>Age</td><td>29.6991</td><td>0.42</td><td>28.0</td><td>80.0</td></tr><tr><th>7</th><td>SibSp</td><td>0.523008</td><td>0</td><td>0.0</td><td>8</td></tr><tr><th>8</th><td>Parch</td><td>0.381594</td><td>0</td><td>0.0</td><td>6</td></tr><tr><th>9</th><td>Ticket</td><td></td><td>110152</td><td></td><td>WE/P 5735</td></tr><tr><th>10</th><td>Fare</td><td>32.2042</td><td>0.0</td><td>14.4542</td><td>512.329</td></tr><tr><th>11</th><td>Cabin</td><td></td><td>A10</td><td></td><td>T</td></tr><tr><th>12</th><td>Embarked</td><td></td><td>C</td><td></td><td>S</td></tr></tbody></table></div>"
      ],
      "text/latex": [
       "\\begin{tabular}{r|cccccc}\n",
       "\t& variable & mean & min & median & max & \\\\\n",
       "\t\\hline\n",
       "\t& Symbol & Union… & Any & Union… & Any & \\\\\n",
       "\t\\hline\n",
       "\t1 & PassengerId & 446.0 & 1 & 446.0 & 891 & $\\dots$ \\\\\n",
       "\t2 & Survived & 0.383838 & 0 & 0.0 & 1 & $\\dots$ \\\\\n",
       "\t3 & Pclass & 2.30864 & 1 & 3.0 & 3 & $\\dots$ \\\\\n",
       "\t4 & Name &  & Abbing, Mr. Anthony &  & van Melkebeke, Mr. Philemon & $\\dots$ \\\\\n",
       "\t5 & Sex &  & female &  & male & $\\dots$ \\\\\n",
       "\t6 & Age & 29.6991 & 0.42 & 28.0 & 80.0 & $\\dots$ \\\\\n",
       "\t7 & SibSp & 0.523008 & 0 & 0.0 & 8 & $\\dots$ \\\\\n",
       "\t8 & Parch & 0.381594 & 0 & 0.0 & 6 & $\\dots$ \\\\\n",
       "\t9 & Ticket &  & 110152 &  & WE/P 5735 & $\\dots$ \\\\\n",
       "\t10 & Fare & 32.2042 & 0.0 & 14.4542 & 512.329 & $\\dots$ \\\\\n",
       "\t11 & Cabin &  & A10 &  & T & $\\dots$ \\\\\n",
       "\t12 & Embarked &  & C &  & S & $\\dots$ \\\\\n",
       "\\end{tabular}\n"
      ],
      "text/plain": [
       "\u001b[1m12×7 DataFrame\u001b[0m\n",
       "\u001b[1m Row \u001b[0m│\u001b[1m variable    \u001b[0m\u001b[1m mean     \u001b[0m\u001b[1m min                 \u001b[0m\u001b[1m median  \u001b[0m\u001b[1m max               \u001b[0m ⋯\n",
       "\u001b[1m     \u001b[0m│\u001b[90m Symbol      \u001b[0m\u001b[90m Union…   \u001b[0m\u001b[90m Any                 \u001b[0m\u001b[90m Union…  \u001b[0m\u001b[90m Any               \u001b[0m ⋯\n",
       "─────┼──────────────────────────────────────────────────────────────────────────\n",
       "   1 │ PassengerId  446.0     1                    446.0    891                ⋯\n",
       "   2 │ Survived     0.383838  0                    0.0      1\n",
       "   3 │ Pclass       2.30864   1                    3.0      3\n",
       "   4 │ Name        \u001b[90m          \u001b[0m Abbing, Mr. Anthony \u001b[90m         \u001b[0m van Melkebeke, Mr.\n",
       "   5 │ Sex         \u001b[90m          \u001b[0m female              \u001b[90m         \u001b[0m male               ⋯\n",
       "   6 │ Age          29.6991   0.42                 28.0     80.0\n",
       "   7 │ SibSp        0.523008  0                    0.0      8\n",
       "   8 │ Parch        0.381594  0                    0.0      6\n",
       "   9 │ Ticket      \u001b[90m          \u001b[0m 110152              \u001b[90m         \u001b[0m WE/P 5735          ⋯\n",
       "  10 │ Fare         32.2042   0.0                  14.4542  512.329\n",
       "  11 │ Cabin       \u001b[90m          \u001b[0m A10                 \u001b[90m         \u001b[0m T\n",
       "  12 │ Embarked    \u001b[90m          \u001b[0m C                   \u001b[90m         \u001b[0m S\n",
       "\u001b[36m                                                               3 columns omitted\u001b[0m"
      ]
     },
     "execution_count": 22,
     "metadata": {},
     "output_type": "execute_result"
    }
   ],
   "source": [
    "describe(df)"
   ]
  },
  {
   "cell_type": "code",
   "execution_count": 23,
   "id": "stopped-recall",
   "metadata": {},
   "outputs": [
    {
     "data": {
      "text/html": [
       "<div class=\"data-frame\"><p>12 rows × 3 columns</p><table class=\"data-frame\"><thead><tr><th></th><th>variable</th><th>mean</th><th>std</th></tr><tr><th></th><th title=\"Symbol\">Symbol</th><th title=\"Union{Nothing, Float64}\">Union…</th><th title=\"Union{Nothing, Float64}\">Union…</th></tr></thead><tbody><tr><th>1</th><td>PassengerId</td><td>446.0</td><td>257.354</td></tr><tr><th>2</th><td>Survived</td><td>0.383838</td><td>0.486592</td></tr><tr><th>3</th><td>Pclass</td><td>2.30864</td><td>0.836071</td></tr><tr><th>4</th><td>Name</td><td></td><td></td></tr><tr><th>5</th><td>Sex</td><td></td><td></td></tr><tr><th>6</th><td>Age</td><td>29.6991</td><td>14.5265</td></tr><tr><th>7</th><td>SibSp</td><td>0.523008</td><td>1.10274</td></tr><tr><th>8</th><td>Parch</td><td>0.381594</td><td>0.806057</td></tr><tr><th>9</th><td>Ticket</td><td></td><td></td></tr><tr><th>10</th><td>Fare</td><td>32.2042</td><td>49.6934</td></tr><tr><th>11</th><td>Cabin</td><td></td><td></td></tr><tr><th>12</th><td>Embarked</td><td></td><td></td></tr></tbody></table></div>"
      ],
      "text/latex": [
       "\\begin{tabular}{r|ccc}\n",
       "\t& variable & mean & std\\\\\n",
       "\t\\hline\n",
       "\t& Symbol & Union… & Union…\\\\\n",
       "\t\\hline\n",
       "\t1 & PassengerId & 446.0 & 257.354 \\\\\n",
       "\t2 & Survived & 0.383838 & 0.486592 \\\\\n",
       "\t3 & Pclass & 2.30864 & 0.836071 \\\\\n",
       "\t4 & Name &  &  \\\\\n",
       "\t5 & Sex &  &  \\\\\n",
       "\t6 & Age & 29.6991 & 14.5265 \\\\\n",
       "\t7 & SibSp & 0.523008 & 1.10274 \\\\\n",
       "\t8 & Parch & 0.381594 & 0.806057 \\\\\n",
       "\t9 & Ticket &  &  \\\\\n",
       "\t10 & Fare & 32.2042 & 49.6934 \\\\\n",
       "\t11 & Cabin &  &  \\\\\n",
       "\t12 & Embarked &  &  \\\\\n",
       "\\end{tabular}\n"
      ],
      "text/plain": [
       "\u001b[1m12×3 DataFrame\u001b[0m\n",
       "\u001b[1m Row \u001b[0m│\u001b[1m variable    \u001b[0m\u001b[1m mean     \u001b[0m\u001b[1m std      \u001b[0m\n",
       "\u001b[1m     \u001b[0m│\u001b[90m Symbol      \u001b[0m\u001b[90m Union…   \u001b[0m\u001b[90m Union…   \u001b[0m\n",
       "─────┼─────────────────────────────────\n",
       "   1 │ PassengerId  446.0     257.354\n",
       "   2 │ Survived     0.383838  0.486592\n",
       "   3 │ Pclass       2.30864   0.836071\n",
       "   4 │ Name        \u001b[90m          \u001b[0m\u001b[90m          \u001b[0m\n",
       "   5 │ Sex         \u001b[90m          \u001b[0m\u001b[90m          \u001b[0m\n",
       "   6 │ Age          29.6991   14.5265\n",
       "   7 │ SibSp        0.523008  1.10274\n",
       "   8 │ Parch        0.381594  0.806057\n",
       "   9 │ Ticket      \u001b[90m          \u001b[0m\u001b[90m          \u001b[0m\n",
       "  10 │ Fare         32.2042   49.6934\n",
       "  11 │ Cabin       \u001b[90m          \u001b[0m\u001b[90m          \u001b[0m\n",
       "  12 │ Embarked    \u001b[90m          \u001b[0m\u001b[90m          \u001b[0m"
      ]
     },
     "execution_count": 23,
     "metadata": {},
     "output_type": "execute_result"
    }
   ],
   "source": [
    "describe(df, :mean, :std)"
   ]
  },
  {
   "cell_type": "code",
   "execution_count": 24,
   "id": "living-rolling",
   "metadata": {},
   "outputs": [
    {
     "data": {
      "text/plain": [
       "(891, 12)"
      ]
     },
     "execution_count": 24,
     "metadata": {},
     "output_type": "execute_result"
    }
   ],
   "source": [
    "nrow(df), ncol(df)"
   ]
  },
  {
   "cell_type": "code",
   "execution_count": 25,
   "id": "fourth-cradle",
   "metadata": {},
   "outputs": [
    {
     "data": {
      "text/plain": [
       "(891, 12)"
      ]
     },
     "execution_count": 25,
     "metadata": {},
     "output_type": "execute_result"
    }
   ],
   "source": [
    "size(df)"
   ]
  },
  {
   "cell_type": "code",
   "execution_count": 29,
   "id": "recreational-shoulder",
   "metadata": {},
   "outputs": [
    {
     "data": {
      "text/plain": [
       "(2, 13)"
      ]
     },
     "execution_count": 29,
     "metadata": {},
     "output_type": "execute_result"
    }
   ],
   "source": [
    "extrema([ [13, 2, 5, 7] [2, 4, 5, 6]]) "
   ]
  },
  {
   "cell_type": "code",
   "execution_count": 30,
   "id": "incoming-evolution",
   "metadata": {},
   "outputs": [
    {
     "data": {
      "text/html": [
       "<div class=\"data-frame\"><p>891 rows × 1 columns</p><table class=\"data-frame\"><thead><tr><th></th><th>Sex</th></tr><tr><th></th><th title=\"String7\">String7</th></tr></thead><tbody><tr><th>1</th><td>male</td></tr><tr><th>2</th><td>female</td></tr><tr><th>3</th><td>female</td></tr><tr><th>4</th><td>female</td></tr><tr><th>5</th><td>male</td></tr><tr><th>6</th><td>male</td></tr><tr><th>7</th><td>male</td></tr><tr><th>8</th><td>male</td></tr><tr><th>9</th><td>female</td></tr><tr><th>10</th><td>female</td></tr><tr><th>11</th><td>female</td></tr><tr><th>12</th><td>female</td></tr><tr><th>13</th><td>male</td></tr><tr><th>14</th><td>male</td></tr><tr><th>15</th><td>female</td></tr><tr><th>16</th><td>female</td></tr><tr><th>17</th><td>male</td></tr><tr><th>18</th><td>male</td></tr><tr><th>19</th><td>female</td></tr><tr><th>20</th><td>female</td></tr><tr><th>21</th><td>male</td></tr><tr><th>22</th><td>male</td></tr><tr><th>23</th><td>female</td></tr><tr><th>24</th><td>male</td></tr><tr><th>25</th><td>female</td></tr><tr><th>26</th><td>female</td></tr><tr><th>27</th><td>male</td></tr><tr><th>28</th><td>male</td></tr><tr><th>29</th><td>female</td></tr><tr><th>30</th><td>male</td></tr><tr><th>&vellip;</th><td>&vellip;</td></tr></tbody></table></div>"
      ],
      "text/latex": [
       "\\begin{tabular}{r|c}\n",
       "\t& Sex\\\\\n",
       "\t\\hline\n",
       "\t& String7\\\\\n",
       "\t\\hline\n",
       "\t1 & male \\\\\n",
       "\t2 & female \\\\\n",
       "\t3 & female \\\\\n",
       "\t4 & female \\\\\n",
       "\t5 & male \\\\\n",
       "\t6 & male \\\\\n",
       "\t7 & male \\\\\n",
       "\t8 & male \\\\\n",
       "\t9 & female \\\\\n",
       "\t10 & female \\\\\n",
       "\t11 & female \\\\\n",
       "\t12 & female \\\\\n",
       "\t13 & male \\\\\n",
       "\t14 & male \\\\\n",
       "\t15 & female \\\\\n",
       "\t16 & female \\\\\n",
       "\t17 & male \\\\\n",
       "\t18 & male \\\\\n",
       "\t19 & female \\\\\n",
       "\t20 & female \\\\\n",
       "\t21 & male \\\\\n",
       "\t22 & male \\\\\n",
       "\t23 & female \\\\\n",
       "\t24 & male \\\\\n",
       "\t25 & female \\\\\n",
       "\t26 & female \\\\\n",
       "\t27 & male \\\\\n",
       "\t28 & male \\\\\n",
       "\t29 & female \\\\\n",
       "\t30 & male \\\\\n",
       "\t$\\dots$ & $\\dots$ \\\\\n",
       "\\end{tabular}\n"
      ],
      "text/plain": [
       "\u001b[1m891×1 DataFrame\u001b[0m\n",
       "\u001b[1m Row \u001b[0m│\u001b[1m Sex     \u001b[0m\n",
       "\u001b[1m     \u001b[0m│\u001b[90m String7 \u001b[0m\n",
       "─────┼─────────\n",
       "   1 │ male\n",
       "   2 │ female\n",
       "   3 │ female\n",
       "   4 │ female\n",
       "   5 │ male\n",
       "   6 │ male\n",
       "   7 │ male\n",
       "   8 │ male\n",
       "   9 │ female\n",
       "  10 │ female\n",
       "  11 │ female\n",
       "  ⋮  │    ⋮\n",
       " 882 │ male\n",
       " 883 │ female\n",
       " 884 │ male\n",
       " 885 │ male\n",
       " 886 │ female\n",
       " 887 │ male\n",
       " 888 │ female\n",
       " 889 │ female\n",
       " 890 │ male\n",
       " 891 │ male\n",
       "\u001b[36m870 rows omitted\u001b[0m"
      ]
     },
     "execution_count": 30,
     "metadata": {},
     "output_type": "execute_result"
    }
   ],
   "source": [
    "select(df, r\"x\")"
   ]
  },
  {
   "cell_type": "code",
   "execution_count": 31,
   "id": "former-promise",
   "metadata": {},
   "outputs": [
    {
     "data": {
      "text/plain": [
       "891×1 Matrix{String7}:\n",
       " \"male\"\n",
       " \"female\"\n",
       " \"female\"\n",
       " \"female\"\n",
       " \"male\"\n",
       " \"male\"\n",
       " \"male\"\n",
       " \"male\"\n",
       " \"female\"\n",
       " \"female\"\n",
       " \"female\"\n",
       " \"female\"\n",
       " \"male\"\n",
       " ⋮\n",
       " \"female\"\n",
       " \"female\"\n",
       " \"male\"\n",
       " \"female\"\n",
       " \"male\"\n",
       " \"male\"\n",
       " \"female\"\n",
       " \"male\"\n",
       " \"female\"\n",
       " \"female\"\n",
       " \"male\"\n",
       " \"male\""
      ]
     },
     "execution_count": 31,
     "metadata": {},
     "output_type": "execute_result"
    }
   ],
   "source": [
    "Matrix(select(df, r\"x\"))"
   ]
  },
  {
   "cell_type": "code",
   "execution_count": 49,
   "id": "serious-savage",
   "metadata": {},
   "outputs": [
    {
     "data": {
      "text/plain": [
       "(\"female\", \"male\")"
      ]
     },
     "execution_count": 49,
     "metadata": {},
     "output_type": "execute_result"
    }
   ],
   "source": [
    "extrema(Matrix(select(df, r\"x\")))"
   ]
  },
  {
   "cell_type": "code",
   "execution_count": null,
   "id": "0edf418e",
   "metadata": {},
   "outputs": [],
   "source": []
  },
  {
   "cell_type": "code",
   "execution_count": null,
   "id": "1dd9a357",
   "metadata": {},
   "outputs": [],
   "source": []
  },
  {
   "cell_type": "code",
   "execution_count": null,
   "id": "a741ce41",
   "metadata": {},
   "outputs": [],
   "source": []
  }
 ],
 "metadata": {
  "kernelspec": {
   "display_name": "Julia 1.7.2",
   "language": "julia",
   "name": "julia-1.7"
  },
  "language_info": {
   "file_extension": ".jl",
   "mimetype": "application/julia",
   "name": "julia",
   "version": "1.7.2"
  }
 },
 "nbformat": 4,
 "nbformat_minor": 5
}
