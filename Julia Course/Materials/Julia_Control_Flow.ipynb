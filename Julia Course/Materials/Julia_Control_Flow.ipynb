{
 "cells": [
  {
   "cell_type": "markdown",
   "id": "0c41cd8e",
   "metadata": {},
   "source": [
    "# Control Flow "
   ]
  },
  {
   "cell_type": "markdown",
   "id": "cbd6e9cc",
   "metadata": {},
   "source": [
    "### Compound Expression"
   ]
  },
  {
   "cell_type": "markdown",
   "id": "c0eb7843",
   "metadata": {},
   "source": [
    "Sometimes it is convenient to have a single expression which evaluates several subexpressions in order, returning the value of the last subexpression as its value. There are two Julia constructs that accomplish this: begin blocks and ; chains. The value of both compound expression constructs is that of the last subexpression. Here's an example of a begin block:"
   ]
  },
  {
   "cell_type": "code",
   "execution_count": 2,
   "id": "e942be98",
   "metadata": {},
   "outputs": [
    {
     "data": {
      "text/plain": [
       "3"
      ]
     },
     "execution_count": 2,
     "metadata": {},
     "output_type": "execute_result"
    }
   ],
   "source": [
    "z = begin\n",
    "           x = 1\n",
    "           y = 2\n",
    "           x + y\n",
    "       end"
   ]
  },
  {
   "cell_type": "markdown",
   "id": "4c5b7ba6",
   "metadata": {},
   "source": [
    "Since these are fairly small, simple expressions, they could easily be placed onto a single line, which is where the ; chain syntax comes in handy:"
   ]
  },
  {
   "cell_type": "code",
   "execution_count": 3,
   "id": "55635b19",
   "metadata": {},
   "outputs": [
    {
     "data": {
      "text/plain": [
       "3"
      ]
     },
     "execution_count": 3,
     "metadata": {},
     "output_type": "execute_result"
    }
   ],
   "source": [
    "z = (x = 1; y = 2; x + y)"
   ]
  },
  {
   "cell_type": "markdown",
   "id": "b88f73ac",
   "metadata": {},
   "source": [
    "This syntax is particularly useful with the terse single-line function definition form introduced in Functions. Although it is typical, there is no requirement that begin blocks be multiline or that ; chains be single-line:"
   ]
  },
  {
   "cell_type": "code",
   "execution_count": 5,
   "id": "3ed8b9bb",
   "metadata": {},
   "outputs": [
    {
     "data": {
      "text/plain": [
       "3"
      ]
     },
     "execution_count": 5,
     "metadata": {},
     "output_type": "execute_result"
    }
   ],
   "source": [
    "begin x = 1; y = 2; x + y end"
   ]
  },
  {
   "cell_type": "code",
   "execution_count": 6,
   "id": "3074c2b6",
   "metadata": {},
   "outputs": [
    {
     "data": {
      "text/plain": [
       "3"
      ]
     },
     "execution_count": 6,
     "metadata": {},
     "output_type": "execute_result"
    }
   ],
   "source": [
    "(x = 1;\n",
    " y = 2;\n",
    " x + y)"
   ]
  },
  {
   "cell_type": "markdown",
   "id": "5c257163",
   "metadata": {},
   "source": [
    "---\n",
    "### Conditional Evaluation"
   ]
  },
  {
   "cell_type": "markdown",
   "id": "774a833f",
   "metadata": {},
   "source": [
    "Conditional evaluation allows portions of code to be evaluated or not evaluated depending on the value of a boolean expression. Here is the anatomy of the if-elseif-else conditional syntax:"
   ]
  },
  {
   "cell_type": "code",
   "execution_count": 7,
   "id": "41e45baf",
   "metadata": {},
   "outputs": [
    {
     "name": "stdout",
     "output_type": "stream",
     "text": [
      "x is less than y\n"
     ]
    }
   ],
   "source": [
    "if x < y\n",
    "    println(\"x is less than y\")\n",
    "elseif x > y\n",
    "    println(\"x is greater than y\")\n",
    "else\n",
    "    println(\"x is equal to y\")\n",
    "end"
   ]
  },
  {
   "cell_type": "markdown",
   "id": "36aa5a1a",
   "metadata": {},
   "source": [
    "If the condition expression x < y is true, then the corresponding block is evaluated; otherwise the condition expression x > y is evaluated, and if it is true, the corresponding block is evaluated; if neither expression is true, the else block is evaluated. Here it is in action:"
   ]
  },
  {
   "cell_type": "code",
   "execution_count": 8,
   "id": "65f29927",
   "metadata": {},
   "outputs": [
    {
     "data": {
      "text/plain": [
       "test (generic function with 1 method)"
      ]
     },
     "execution_count": 8,
     "metadata": {},
     "output_type": "execute_result"
    }
   ],
   "source": [
    "function test(x,y)\n",
    "    if x < y \n",
    "        println(\"x is less than y\")\n",
    "    elseif x>y\n",
    "        println(\"x is greater than y\")\n",
    "    else\n",
    "        println(\"x is equal to y\")\n",
    "    end \n",
    "end "
   ]
  },
  {
   "cell_type": "code",
   "execution_count": 9,
   "id": "f05611d2",
   "metadata": {},
   "outputs": [
    {
     "name": "stdout",
     "output_type": "stream",
     "text": [
      "x is less than y\n"
     ]
    }
   ],
   "source": [
    "test(1,2)"
   ]
  },
  {
   "cell_type": "code",
   "execution_count": 10,
   "id": "c53c8e22",
   "metadata": {},
   "outputs": [
    {
     "name": "stdout",
     "output_type": "stream",
     "text": [
      "x is equal to y\n"
     ]
    }
   ],
   "source": [
    "test(2,2)"
   ]
  },
  {
   "cell_type": "code",
   "execution_count": 11,
   "id": "86fe3983",
   "metadata": {},
   "outputs": [
    {
     "name": "stdout",
     "output_type": "stream",
     "text": [
      "x is equal to y\n"
     ]
    }
   ],
   "source": [
    "test(1,1)"
   ]
  },
  {
   "cell_type": "markdown",
   "id": "c6055ec8",
   "metadata": {},
   "source": [
    "The elseif and else blocks are optional, and as many elseif blocks as desired can be used. The condition expressions in the if-elseif-else construct are evaluated until the first one evaluates to true, after which the associated block is evaluated, and no further condition expressions or blocks are evaluated.\n",
    "\n",
    "if blocks are \"leaky\", i.e. they do not introduce a local scope. This means that new variables defined inside the if clauses can be used after the if block, even if they weren't defined before. So, we could have defined the test function above as\n"
   ]
  },
  {
   "cell_type": "code",
   "execution_count": 12,
   "id": "67f93e67",
   "metadata": {},
   "outputs": [
    {
     "data": {
      "text/plain": [
       "test (generic function with 1 method)"
      ]
     },
     "execution_count": 12,
     "metadata": {},
     "output_type": "execute_result"
    }
   ],
   "source": [
    "function test(x,y)\n",
    "    if x<y\n",
    "        relation = \"less than\"\n",
    "    elseif x==y\n",
    "        relation = \"equal to\"\n",
    "    else \n",
    "        relation = \"greater than\"\n",
    "    end \n",
    "    println(\"x is \", relation, \" y.\")\n",
    "end "
   ]
  },
  {
   "cell_type": "code",
   "execution_count": 15,
   "id": "fe0cf34b",
   "metadata": {},
   "outputs": [
    {
     "name": "stdout",
     "output_type": "stream",
     "text": [
      "x isequal toy.\n"
     ]
    }
   ],
   "source": [
    "test(1,1)"
   ]
  },
  {
   "cell_type": "code",
   "execution_count": 16,
   "id": "25af702d",
   "metadata": {},
   "outputs": [
    {
     "name": "stdout",
     "output_type": "stream",
     "text": [
      "x isless thany.\n"
     ]
    }
   ],
   "source": [
    "test(4,5)"
   ]
  },
  {
   "cell_type": "code",
   "execution_count": 17,
   "id": "3bc6e807",
   "metadata": {},
   "outputs": [
    {
     "name": "stdout",
     "output_type": "stream",
     "text": [
      "x isgreater thany.\n"
     ]
    }
   ],
   "source": [
    "test(5,4)"
   ]
  },
  {
   "cell_type": "markdown",
   "id": "756d56f0",
   "metadata": {},
   "source": [
    "The variable relation is declared inside the if block, but used outside. However, when depending on this behavior, make sure all possible code paths define a value for the variable. The following change to the above function results in a runtime error."
   ]
  },
  {
   "cell_type": "code",
   "execution_count": 18,
   "id": "34668c10",
   "metadata": {},
   "outputs": [
    {
     "data": {
      "text/plain": [
       "test (generic function with 1 method)"
      ]
     },
     "execution_count": 18,
     "metadata": {},
     "output_type": "execute_result"
    }
   ],
   "source": [
    "function test(x,y)\n",
    "    if x<y \n",
    "        relation = \"less than\"\n",
    "    elseif x==y\n",
    "        relation = \"equal to\"\n",
    "    end \n",
    "    println(\"x is \", relation, \"y.\")\n",
    "end "
   ]
  },
  {
   "cell_type": "code",
   "execution_count": 19,
   "id": "718bb9fc",
   "metadata": {},
   "outputs": [
    {
     "name": "stdout",
     "output_type": "stream",
     "text": [
      "x is less thany.\n"
     ]
    }
   ],
   "source": [
    "test(1,2)"
   ]
  },
  {
   "cell_type": "code",
   "execution_count": 21,
   "id": "cceb0a65",
   "metadata": {},
   "outputs": [
    {
     "name": "stdout",
     "output_type": "stream",
     "text": [
      "x is equal toy.\n"
     ]
    }
   ],
   "source": [
    "test(2,2)"
   ]
  },
  {
   "cell_type": "code",
   "execution_count": 22,
   "id": "9eed3be2",
   "metadata": {},
   "outputs": [
    {
     "ename": "LoadError",
     "evalue": "UndefVarError: relation not defined",
     "output_type": "error",
     "traceback": [
      "UndefVarError: relation not defined",
      "",
      "Stacktrace:",
      " [1] test(x::Int64, y::Int64)",
      "   @ Main .\\In[18]:7",
      " [2] top-level scope",
      "   @ In[22]:1",
      " [3] eval",
      "   @ .\\boot.jl:373 [inlined]",
      " [4] include_string(mapexpr::typeof(REPL.softscope), mod::Module, code::String, filename::String)",
      "   @ Base .\\loading.jl:1196"
     ]
    }
   ],
   "source": [
    "test(2,1)"
   ]
  },
  {
   "cell_type": "code",
   "execution_count": 23,
   "id": "9a30687f",
   "metadata": {},
   "outputs": [
    {
     "data": {
      "text/plain": [
       "\"positive!\""
      ]
     },
     "execution_count": 23,
     "metadata": {},
     "output_type": "execute_result"
    }
   ],
   "source": [
    "x = 3\n",
    "\n",
    "if x>0\n",
    "    \"positive!\"\n",
    "else \n",
    "    \"negative...\"\n",
    "end "
   ]
  },
  {
   "cell_type": "markdown",
   "id": "63b37429",
   "metadata": {},
   "source": [
    "Unlike C, MATLAB, Perl, Python, and Ruby – but like Java, and a few other stricter, typed languages – it is an error if the value of a conditional expression is anything but true or false:"
   ]
  },
  {
   "cell_type": "code",
   "execution_count": 25,
   "id": "c52f651b",
   "metadata": {},
   "outputs": [
    {
     "ename": "LoadError",
     "evalue": "TypeError: non-boolean (Int64) used in boolean context",
     "output_type": "error",
     "traceback": [
      "TypeError: non-boolean (Int64) used in boolean context",
      "",
      "Stacktrace:",
      " [1] top-level scope",
      "   @ In[25]:1",
      " [2] eval",
      "   @ .\\boot.jl:373 [inlined]",
      " [3] include_string(mapexpr::typeof(REPL.softscope), mod::Module, code::String, filename::String)",
      "   @ Base .\\loading.jl:1196"
     ]
    }
   ],
   "source": [
    "if 1\n",
    "    println(\"true\")\n",
    "end "
   ]
  },
  {
   "cell_type": "markdown",
   "id": "9f4f89e4",
   "metadata": {},
   "source": [
    "This error indicates that the conditional was of the wrong type: Int64 rather than the required Bool."
   ]
  },
  {
   "cell_type": "code",
   "execution_count": 27,
   "id": "5f390d24",
   "metadata": {},
   "outputs": [
    {
     "name": "stdout",
     "output_type": "stream",
     "text": [
      "true\n"
     ]
    }
   ],
   "source": [
    "if true \n",
    "    println(\"true\")\n",
    "end "
   ]
  },
  {
   "cell_type": "markdown",
   "id": "f4c0784c",
   "metadata": {},
   "source": [
    "The expression a, before the ?, is a condition expression, and the ternary operation evaluates the expression b, before the :, if the condition a is true or the expression c, after the :, if it is false. Note that the spaces around ? and : are mandatory: an expression like a?b:c is not a valid ternary expression (but a newline is acceptable after both the ? and the :)."
   ]
  },
  {
   "cell_type": "markdown",
   "id": "3ac2e4c3",
   "metadata": {},
   "source": [
    "The easiest way to understand this behavior is to see an example. In the previous example, the println call is shared by all three branches: the only real choice is which literal string to print. This could be written more concisely using the ternary operator. For the sake of clarity, let's try a two-way version first:"
   ]
  },
  {
   "cell_type": "code",
   "execution_count": 28,
   "id": "25ee656e",
   "metadata": {},
   "outputs": [],
   "source": [
    "x = 1; y = 2;"
   ]
  },
  {
   "cell_type": "code",
   "execution_count": 29,
   "id": "065aacea",
   "metadata": {},
   "outputs": [
    {
     "name": "stdout",
     "output_type": "stream",
     "text": [
      "less than\n"
     ]
    }
   ],
   "source": [
    "println(x < y ? \"less than\" : \"not less than\")"
   ]
  },
  {
   "cell_type": "code",
   "execution_count": 30,
   "id": "d3e90959",
   "metadata": {},
   "outputs": [],
   "source": [
    "x = 1 ; y = 0 ;"
   ]
  },
  {
   "cell_type": "code",
   "execution_count": 31,
   "id": "54b5a6b5",
   "metadata": {},
   "outputs": [
    {
     "name": "stdout",
     "output_type": "stream",
     "text": [
      "not less than\n"
     ]
    }
   ],
   "source": [
    "println(x<y ? \"less than\" : \"not less than\")"
   ]
  },
  {
   "cell_type": "markdown",
   "id": "9bdff061",
   "metadata": {},
   "source": [
    "If the expression x < y is true, the entire ternary operator expression evaluates to the string \"less than\" and otherwise it evaluates to the string \"not less than\". The original three-way example requires chaining multiple uses of the ternary operator together:"
   ]
  },
  {
   "cell_type": "code",
   "execution_count": 33,
   "id": "041a2787",
   "metadata": {},
   "outputs": [
    {
     "data": {
      "text/plain": [
       "test (generic function with 1 method)"
      ]
     },
     "execution_count": 33,
     "metadata": {},
     "output_type": "execute_result"
    }
   ],
   "source": [
    "test(x, y) = println(x < y ? \"x is less than y\"    :\n",
    "                            x > y ? \"x is greater than y\" : \"x is equal to y\")"
   ]
  },
  {
   "cell_type": "code",
   "execution_count": 34,
   "id": "d0f8b114",
   "metadata": {},
   "outputs": [
    {
     "name": "stdout",
     "output_type": "stream",
     "text": [
      "x is less than y\n"
     ]
    }
   ],
   "source": [
    "test(1,2)"
   ]
  },
  {
   "cell_type": "code",
   "execution_count": 35,
   "id": "3a48fe47",
   "metadata": {},
   "outputs": [
    {
     "name": "stdout",
     "output_type": "stream",
     "text": [
      "x is greater than y\n"
     ]
    }
   ],
   "source": [
    "test(2,1)"
   ]
  },
  {
   "cell_type": "code",
   "execution_count": 36,
   "id": "d2450e7b",
   "metadata": {},
   "outputs": [
    {
     "name": "stdout",
     "output_type": "stream",
     "text": [
      "x is equal to y\n"
     ]
    }
   ],
   "source": [
    "test(1,1)"
   ]
  },
  {
   "cell_type": "markdown",
   "id": "210df9b5",
   "metadata": {},
   "source": [
    "To facilitate chaining, the operator associates from right to left.\n",
    "\n",
    "It is significant that like if-elseif-else, the expressions before and after the : are only evaluated if the condition expression evaluates to true or false, respectively:"
   ]
  },
  {
   "cell_type": "code",
   "execution_count": 37,
   "id": "d429d22f",
   "metadata": {},
   "outputs": [
    {
     "data": {
      "text/plain": [
       "v (generic function with 1 method)"
      ]
     },
     "execution_count": 37,
     "metadata": {},
     "output_type": "execute_result"
    }
   ],
   "source": [
    "v(x) = (println(x); x) "
   ]
  },
  {
   "cell_type": "code",
   "execution_count": 38,
   "id": "9e502aeb",
   "metadata": {},
   "outputs": [
    {
     "name": "stdout",
     "output_type": "stream",
     "text": [
      "yes\n"
     ]
    },
    {
     "data": {
      "text/plain": [
       "\"yes\""
      ]
     },
     "execution_count": 38,
     "metadata": {},
     "output_type": "execute_result"
    }
   ],
   "source": [
    "1 < 2 ? v(\"yes\") : v(\"no\")"
   ]
  },
  {
   "cell_type": "code",
   "execution_count": 39,
   "id": "eab64a3e",
   "metadata": {},
   "outputs": [
    {
     "name": "stdout",
     "output_type": "stream",
     "text": [
      "no\n"
     ]
    },
    {
     "data": {
      "text/plain": [
       "\"no\""
      ]
     },
     "execution_count": 39,
     "metadata": {},
     "output_type": "execute_result"
    }
   ],
   "source": [
    " 1 > 2 ? v(\"yes\") : v(\"no\")"
   ]
  },
  {
   "cell_type": "markdown",
   "id": "25746226",
   "metadata": {},
   "source": [
    "---\n",
    "### Short-Circuit Evaluation "
   ]
  },
  {
   "cell_type": "markdown",
   "id": "08d332c5",
   "metadata": {},
   "source": [
    "The && and || operators in Julia correspond to logical “and” and “or” operations, respectively, and are typically used for this purpose. However, they have an additional property of short-circuit evaluation: they don't necessarily evaluate their second argument, as explained below. (There are also bitwise & and | operators that can be used as logical “and” and “or” without short-circuit behavior, but beware that & and | have higher precedence than && and || for evaluation order.)\n",
    "\n",
    "Short-circuit evaluation is quite similar to conditional evaluation. The behavior is found in most imperative programming languages having the && and || boolean operators: in a series of boolean expressions connected by these operators, only the minimum number of expressions are evaluated as are necessary to determine the final boolean value of the entire chain. Some languages (like Python) refer to them as and (&&) and or (||). Explicitly, this means that:\n",
    "\n",
    "In the expression a && b, the subexpression b is only evaluated if a evaluates to true.\n",
    "In the expression a || b, the subexpression b is only evaluated if a evaluates to false.\n",
    "The reasoning is that a && b must be false if a is false, regardless of the value of b, and likewise, the value of a || b must be true if a is true, regardless of the value of b. Both && and || associate to the right, but && has higher precedence than || does. It's easy to experiment with this behavior:"
   ]
  },
  {
   "cell_type": "code",
   "execution_count": 40,
   "id": "c4f69936",
   "metadata": {},
   "outputs": [
    {
     "data": {
      "text/plain": [
       "t (generic function with 1 method)"
      ]
     },
     "execution_count": 40,
     "metadata": {},
     "output_type": "execute_result"
    }
   ],
   "source": [
    "t(x) = (println(x); true)"
   ]
  },
  {
   "cell_type": "code",
   "execution_count": 41,
   "id": "9071b3ba",
   "metadata": {},
   "outputs": [
    {
     "data": {
      "text/plain": [
       "f (generic function with 1 method)"
      ]
     },
     "execution_count": 41,
     "metadata": {},
     "output_type": "execute_result"
    }
   ],
   "source": [
    "f(x) = (println(x); false) "
   ]
  },
  {
   "cell_type": "code",
   "execution_count": 42,
   "id": "ea5b1f83",
   "metadata": {},
   "outputs": [
    {
     "name": "stdout",
     "output_type": "stream",
     "text": [
      "1\n",
      "2\n"
     ]
    },
    {
     "data": {
      "text/plain": [
       "true"
      ]
     },
     "execution_count": 42,
     "metadata": {},
     "output_type": "execute_result"
    }
   ],
   "source": [
    "t(1) && t(2)"
   ]
  },
  {
   "cell_type": "code",
   "execution_count": 43,
   "id": "5f0380fa",
   "metadata": {},
   "outputs": [
    {
     "name": "stdout",
     "output_type": "stream",
     "text": [
      "1\n",
      "2\n"
     ]
    },
    {
     "data": {
      "text/plain": [
       "false"
      ]
     },
     "execution_count": 43,
     "metadata": {},
     "output_type": "execute_result"
    }
   ],
   "source": [
    "t(1) && f(2)"
   ]
  },
  {
   "cell_type": "code",
   "execution_count": 44,
   "id": "5a81ee12",
   "metadata": {},
   "outputs": [
    {
     "name": "stdout",
     "output_type": "stream",
     "text": [
      "1\n"
     ]
    },
    {
     "data": {
      "text/plain": [
       "false"
      ]
     },
     "execution_count": 44,
     "metadata": {},
     "output_type": "execute_result"
    }
   ],
   "source": [
    "f(1) && t(2)"
   ]
  },
  {
   "cell_type": "code",
   "execution_count": 45,
   "id": "c0990ec6",
   "metadata": {},
   "outputs": [
    {
     "name": "stdout",
     "output_type": "stream",
     "text": [
      "1\n"
     ]
    },
    {
     "data": {
      "text/plain": [
       "false"
      ]
     },
     "execution_count": 45,
     "metadata": {},
     "output_type": "execute_result"
    }
   ],
   "source": [
    "f(1) && f(2)"
   ]
  },
  {
   "cell_type": "code",
   "execution_count": 46,
   "id": "297460b7",
   "metadata": {},
   "outputs": [
    {
     "name": "stdout",
     "output_type": "stream",
     "text": [
      "1\n"
     ]
    },
    {
     "data": {
      "text/plain": [
       "true"
      ]
     },
     "execution_count": 46,
     "metadata": {},
     "output_type": "execute_result"
    }
   ],
   "source": [
    "t(1) || t(2)"
   ]
  },
  {
   "cell_type": "code",
   "execution_count": 47,
   "id": "d9d8a0c8",
   "metadata": {},
   "outputs": [
    {
     "name": "stdout",
     "output_type": "stream",
     "text": [
      "1\n"
     ]
    },
    {
     "data": {
      "text/plain": [
       "true"
      ]
     },
     "execution_count": 47,
     "metadata": {},
     "output_type": "execute_result"
    }
   ],
   "source": [
    "t(1) || f(2)"
   ]
  },
  {
   "cell_type": "code",
   "execution_count": 48,
   "id": "a9e92619",
   "metadata": {},
   "outputs": [
    {
     "name": "stdout",
     "output_type": "stream",
     "text": [
      "1\n",
      "2\n"
     ]
    },
    {
     "data": {
      "text/plain": [
       "true"
      ]
     },
     "execution_count": 48,
     "metadata": {},
     "output_type": "execute_result"
    }
   ],
   "source": [
    "f(1) || t(2)"
   ]
  },
  {
   "cell_type": "code",
   "execution_count": 49,
   "id": "48e86e32",
   "metadata": {},
   "outputs": [
    {
     "name": "stdout",
     "output_type": "stream",
     "text": [
      "1\n",
      "2\n"
     ]
    },
    {
     "data": {
      "text/plain": [
       "false"
      ]
     },
     "execution_count": 49,
     "metadata": {},
     "output_type": "execute_result"
    }
   ],
   "source": [
    "f(1) || f(2)"
   ]
  },
  {
   "cell_type": "code",
   "execution_count": 50,
   "id": "a924dacb",
   "metadata": {},
   "outputs": [
    {
     "data": {
      "text/plain": [
       "fact (generic function with 1 method)"
      ]
     },
     "execution_count": 50,
     "metadata": {},
     "output_type": "execute_result"
    }
   ],
   "source": [
    "function fact(n::Int)\n",
    "    n >=0 || error(\"n must be non-negative\")\n",
    "    n == 0 && return 1\n",
    "    n * fact(n-1)\n",
    "end"
   ]
  },
  {
   "cell_type": "code",
   "execution_count": 51,
   "id": "651ffb36",
   "metadata": {},
   "outputs": [
    {
     "data": {
      "text/plain": [
       "120"
      ]
     },
     "execution_count": 51,
     "metadata": {},
     "output_type": "execute_result"
    }
   ],
   "source": [
    "fact(5)"
   ]
  },
  {
   "cell_type": "code",
   "execution_count": 52,
   "id": "cbc6baa9",
   "metadata": {},
   "outputs": [
    {
     "data": {
      "text/plain": [
       "1"
      ]
     },
     "execution_count": 52,
     "metadata": {},
     "output_type": "execute_result"
    }
   ],
   "source": [
    "fact(0)"
   ]
  },
  {
   "cell_type": "code",
   "execution_count": 53,
   "id": "b4df59e6",
   "metadata": {},
   "outputs": [
    {
     "data": {
      "text/plain": [
       "3628800"
      ]
     },
     "execution_count": 53,
     "metadata": {},
     "output_type": "execute_result"
    }
   ],
   "source": [
    "fact(10)"
   ]
  },
  {
   "cell_type": "code",
   "execution_count": 54,
   "id": "f1c464e5",
   "metadata": {},
   "outputs": [
    {
     "ename": "LoadError",
     "evalue": "n must be non-negative",
     "output_type": "error",
     "traceback": [
      "n must be non-negative",
      "",
      "Stacktrace:",
      " [1] error(s::String)",
      "   @ Base .\\error.jl:33",
      " [2] fact(n::Int64)",
      "   @ Main .\\In[50]:2",
      " [3] top-level scope",
      "   @ In[54]:1",
      " [4] eval",
      "   @ .\\boot.jl:373 [inlined]",
      " [5] include_string(mapexpr::typeof(REPL.softscope), mod::Module, code::String, filename::String)",
      "   @ Base .\\loading.jl:1196"
     ]
    }
   ],
   "source": [
    "fact(-1)"
   ]
  },
  {
   "cell_type": "code",
   "execution_count": 55,
   "id": "e4145391",
   "metadata": {},
   "outputs": [
    {
     "name": "stdout",
     "output_type": "stream",
     "text": [
      "1\n",
      "2\n"
     ]
    },
    {
     "data": {
      "text/plain": [
       "false"
      ]
     },
     "execution_count": 55,
     "metadata": {},
     "output_type": "execute_result"
    }
   ],
   "source": [
    "f(1) & t(2)"
   ]
  },
  {
   "cell_type": "code",
   "execution_count": 56,
   "id": "6281d3b6",
   "metadata": {},
   "outputs": [
    {
     "name": "stdout",
     "output_type": "stream",
     "text": [
      "1\n",
      "2\n"
     ]
    },
    {
     "data": {
      "text/plain": [
       "true"
      ]
     },
     "execution_count": 56,
     "metadata": {},
     "output_type": "execute_result"
    }
   ],
   "source": [
    "t(1) | t(2)"
   ]
  },
  {
   "cell_type": "markdown",
   "id": "30b27ce6",
   "metadata": {},
   "source": [
    "Just like condition expressions used in if, elseif or the ternary operator, the operands of && or || must be boolean values (true or false). Using a non-boolean value anywhere except for the last entry in a conditional chain is an error:"
   ]
  },
  {
   "cell_type": "code",
   "execution_count": 57,
   "id": "de17b74e",
   "metadata": {},
   "outputs": [
    {
     "ename": "LoadError",
     "evalue": "TypeError: non-boolean (Int64) used in boolean context",
     "output_type": "error",
     "traceback": [
      "TypeError: non-boolean (Int64) used in boolean context",
      "",
      "Stacktrace:",
      " [1] top-level scope",
      "   @ In[57]:1",
      " [2] eval",
      "   @ .\\boot.jl:373 [inlined]",
      " [3] include_string(mapexpr::typeof(REPL.softscope), mod::Module, code::String, filename::String)",
      "   @ Base .\\loading.jl:1196"
     ]
    }
   ],
   "source": [
    "1 && true "
   ]
  },
  {
   "cell_type": "markdown",
   "id": "72b4ffd5",
   "metadata": {},
   "source": [
    "On the other hand, any type of expression can be used at the end of a conditional chain. It will be evaluated and returned depending on the preceding conditionals:"
   ]
  },
  {
   "cell_type": "code",
   "execution_count": 58,
   "id": "2b8a7c1a",
   "metadata": {},
   "outputs": [
    {
     "data": {
      "text/plain": [
       "(1, 2, 3)"
      ]
     },
     "execution_count": 58,
     "metadata": {},
     "output_type": "execute_result"
    }
   ],
   "source": [
    "true && (x=(1,2,3))"
   ]
  },
  {
   "cell_type": "code",
   "execution_count": 59,
   "id": "7e1bfa29",
   "metadata": {},
   "outputs": [
    {
     "data": {
      "text/plain": [
       "false"
      ]
     },
     "execution_count": 59,
     "metadata": {},
     "output_type": "execute_result"
    }
   ],
   "source": [
    "false && (x= (1,2,3))"
   ]
  },
  {
   "cell_type": "markdown",
   "id": "b8bd9299",
   "metadata": {},
   "source": [
    "---\n",
    "### Repeated Evaluation: Loops "
   ]
  },
  {
   "cell_type": "markdown",
   "id": "3a9808f2",
   "metadata": {},
   "source": [
    "There are two constructs for repeated evaluation of expressions: the while loop and the for loop. Here is an example of a while loop:"
   ]
  },
  {
   "cell_type": "code",
   "execution_count": 62,
   "id": "9fc757ef",
   "metadata": {},
   "outputs": [
    {
     "name": "stdout",
     "output_type": "stream",
     "text": [
      "1\n",
      "2\n",
      "3\n",
      "4\n",
      "5\n"
     ]
    }
   ],
   "source": [
    "# While Loop \n",
    "i=1;\n",
    "while i <= 5 \n",
    "    println(i)\n",
    "    global i+=1 \n",
    "end "
   ]
  },
  {
   "cell_type": "code",
   "execution_count": 63,
   "id": "957a9f3a",
   "metadata": {},
   "outputs": [
    {
     "name": "stdout",
     "output_type": "stream",
     "text": [
      "1\n",
      "2\n",
      "3\n",
      "4\n",
      "5\n"
     ]
    }
   ],
   "source": [
    "# for Loop \n",
    "for i = 1:5\n",
    "    println(i)\n",
    "end"
   ]
  },
  {
   "cell_type": "code",
   "execution_count": 65,
   "id": "04c5590d",
   "metadata": {},
   "outputs": [
    {
     "name": "stdout",
     "output_type": "stream",
     "text": [
      "2\n",
      "3\n",
      "4\n",
      "5\n",
      "6\n",
      "7\n",
      "8\n",
      "9\n",
      "10\n",
      "11\n",
      "12\n",
      "13\n",
      "14\n",
      "15\n"
     ]
    }
   ],
   "source": [
    "for j=2:15\n",
    "    println(j)\n",
    "end"
   ]
  },
  {
   "cell_type": "markdown",
   "id": "8c0d4611",
   "metadata": {},
   "source": [
    "the for loop construct can iterate over any container. In these cases, the alternative (but fully equivalent) keyword in or ∈ is typically used instead of =, since it makes the code read more clearly:"
   ]
  },
  {
   "cell_type": "code",
   "execution_count": 66,
   "id": "e4b23c06",
   "metadata": {},
   "outputs": [
    {
     "name": "stdout",
     "output_type": "stream",
     "text": [
      "1\n",
      "4\n",
      "0\n"
     ]
    }
   ],
   "source": [
    "for i in [1,4,0]\n",
    "           println(i)\n",
    "       end"
   ]
  },
  {
   "cell_type": "code",
   "execution_count": 67,
   "id": "ebafeda7",
   "metadata": {},
   "outputs": [
    {
     "name": "stdout",
     "output_type": "stream",
     "text": [
      "foo\n",
      "bar\n",
      "baz\n"
     ]
    }
   ],
   "source": [
    "for s ∈ [\"foo\",\"bar\",\"baz\"]\n",
    "           println(s)\n",
    "       end"
   ]
  },
  {
   "cell_type": "markdown",
   "id": "a427a992",
   "metadata": {},
   "source": [
    "It is sometimes convenient to terminate the repetition of a while before the test condition is falsified or stop iterating in a for loop before the end of the iterable object is reached. This can be accomplished with the break keyword:"
   ]
  },
  {
   "cell_type": "code",
   "execution_count": 68,
   "id": "aa03c1f6",
   "metadata": {},
   "outputs": [
    {
     "name": "stdout",
     "output_type": "stream",
     "text": [
      "1\n",
      "2\n",
      "3\n",
      "4\n",
      "5\n"
     ]
    }
   ],
   "source": [
    "i =1; \n",
    "while true\n",
    "   println(i)\n",
    "   if i >= 5\n",
    "       break\n",
    "   end\n",
    "   global i += 1\n",
    "end"
   ]
  },
  {
   "cell_type": "code",
   "execution_count": 69,
   "id": "5a54ccab",
   "metadata": {},
   "outputs": [
    {
     "name": "stdout",
     "output_type": "stream",
     "text": [
      "1\n",
      "2\n",
      "3\n",
      "4\n",
      "5\n"
     ]
    }
   ],
   "source": [
    "for j = 1:1000\n",
    "   println(j)\n",
    "   if j >= 5\n",
    "       break\n",
    "   end\n",
    "end"
   ]
  },
  {
   "cell_type": "markdown",
   "id": "b43eb6f4",
   "metadata": {},
   "source": [
    "Without the break keyword, the above while loop would never terminate on its own, and the for loop would iterate up to 1000. These loops are both exited early by using break.\n",
    "\n",
    "In other circumstances, it is handy to be able to stop an iteration and move on to the next one immediately. The continue keyword accomplishes this:"
   ]
  },
  {
   "cell_type": "code",
   "execution_count": 70,
   "id": "963cfe50",
   "metadata": {},
   "outputs": [
    {
     "name": "stdout",
     "output_type": "stream",
     "text": [
      "3\n",
      "6\n",
      "9\n"
     ]
    }
   ],
   "source": [
    "for i = 1:10\n",
    "   if i % 3 != 0\n",
    "       continue\n",
    "   end\n",
    "   println(i)\n",
    "end"
   ]
  },
  {
   "cell_type": "markdown",
   "id": "a112d564",
   "metadata": {},
   "source": [
    "This is a somewhat contrived example since we could produce the same behavior more clearly by negating the condition and placing the println call inside the if block. In realistic usage there is more code to be evaluated after the continue, and often there are multiple points from which one calls continue.\n",
    "\n",
    "Multiple nested for loops can be combined into a single outer loop, forming the cartesian product of its iterables:"
   ]
  },
  {
   "cell_type": "code",
   "execution_count": 71,
   "id": "67a7cc8f",
   "metadata": {},
   "outputs": [
    {
     "name": "stdout",
     "output_type": "stream",
     "text": [
      "(1, 3)\n",
      "(1, 4)\n",
      "(2, 3)\n",
      "(2, 4)\n"
     ]
    }
   ],
   "source": [
    "for i = 1:2, j = 3:4\n",
    "    println((i,j))\n",
    "end"
   ]
  },
  {
   "cell_type": "markdown",
   "id": "fd9f3087",
   "metadata": {},
   "source": [
    "Multiple containers can be iterated over at the same time in a single for loop using zip:"
   ]
  },
  {
   "cell_type": "code",
   "execution_count": 72,
   "id": "b2cb7b40",
   "metadata": {},
   "outputs": [
    {
     "name": "stdout",
     "output_type": "stream",
     "text": [
      "(1, 4)\n",
      "(2, 5)\n",
      "(3, 6)\n"
     ]
    }
   ],
   "source": [
    "for (j, k) in zip([1 2 3], [4 5 6 7])\n",
    "   println((j,k))\n",
    "end"
   ]
  },
  {
   "cell_type": "markdown",
   "id": "ab1a197a",
   "metadata": {},
   "source": [
    "Using zip will create an iterator that is a tuple containing the subiterators for the containers passed to it. The zip iterator will iterate over all subiterators in order, choosing the iith element of each subiterator in the iith iteration of the for loop. Once any of the subiterators run out, the for loop will stop."
   ]
  },
  {
   "cell_type": "markdown",
   "id": "31f886d8",
   "metadata": {},
   "source": [
    "---\n",
    "## Exception handling"
   ]
  },
  {
   "cell_type": "code",
   "execution_count": null,
   "id": "865d4a56",
   "metadata": {},
   "outputs": [],
   "source": []
  }
 ],
 "metadata": {
  "kernelspec": {
   "display_name": "Julia 1.7.2",
   "language": "julia",
   "name": "julia-1.7"
  },
  "language_info": {
   "file_extension": ".jl",
   "mimetype": "application/julia",
   "name": "julia",
   "version": "1.7.2"
  }
 },
 "nbformat": 4,
 "nbformat_minor": 5
}
